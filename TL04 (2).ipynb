{
 "cells": [
  {
   "cell_type": "code",
   "execution_count": null,
   "metadata": {
    "_cell_guid": "b1076dfc-b9ad-4769-8c92-a6c4dae69d19",
    "_uuid": "8f2839f25d086af736a60e9eeb907d3b93b6e0e5"
   },
   "outputs": [],
   "source": [
    "# This Python 3 environment comes with many helpful analytics libraries installed\n",
    "# It is defined by the kaggle/python Docker image: https://github.com/kaggle/docker-python\n",
    "# For example, here's several helpful packages to load\n",
    "\n",
    "import numpy as np # linear algebra\n",
    "import pandas as pd # data processing, CSV file I/O (e.g. pd.read_csv)\n",
    "\n",
    "# Input data files are available in the read-only \"../input/\" directory\n",
    "# For example, running this (by clicking run or pressing Shift+Enter) will list all files under the input directory\n",
    "\n",
    "import os\n",
    "for dirname, _, filenames in os.walk('/kaggle/input'):\n",
    "    for filename in filenames:\n",
    "        print(os.path.join(dirname, filename))\n",
    "\n",
    "# You can write up to 20GB to the current directory (/kaggle/working/) that gets preserved as output when you create a version using \"Save & Run All\" \n",
    "# You can also write temporary files to /kaggle/temp/, but they won't be saved outside of the current session"
   ]
  },
  {
   "cell_type": "code",
   "execution_count": 3,
   "metadata": {
    "execution": {
     "iopub.execute_input": "2024-12-07T06:46:05.013218Z",
     "iopub.status.busy": "2024-12-07T06:46:05.012886Z",
     "iopub.status.idle": "2024-12-07T06:46:05.020632Z",
     "shell.execute_reply": "2024-12-07T06:46:05.019758Z",
     "shell.execute_reply.started": "2024-12-07T06:46:05.013187Z"
    }
   },
   "outputs": [
    {
     "name": "stdout",
     "output_type": "stream",
     "text": [
      "Train directory contents: ['dogs', 'cats']\n",
      "Test directory contents: ['dogs', 'cats']\n"
     ]
    }
   ],
   "source": [
    "import os\n",
    "\n",
    "# Check the structure of the 'train' folder\n",
    "train_dir = '/kaggle/input/cat-vs-dog/test'\n",
    "print(\"Train directory contents:\", os.listdir(train_dir))\n",
    "\n",
    "# Check the structure of the 'test' folder\n",
    "test_dir = '/kaggle/input/cat-vs-dog/train'\n",
    "print(\"Test directory contents:\", os.listdir(test_dir))\n"
   ]
  },
  {
   "cell_type": "code",
   "execution_count": 4,
   "metadata": {
    "execution": {
     "iopub.execute_input": "2024-12-07T06:46:06.395722Z",
     "iopub.status.busy": "2024-12-07T06:46:06.395364Z",
     "iopub.status.idle": "2024-12-07T06:46:27.834393Z",
     "shell.execute_reply": "2024-12-07T06:46:27.833559Z",
     "shell.execute_reply.started": "2024-12-07T06:46:06.395693Z"
    }
   },
   "outputs": [
    {
     "name": "stdout",
     "output_type": "stream",
     "text": [
      "Train Image Counts: {'dogs': 10000, 'cats': 10000}\n",
      "Test Image Counts: {'dogs': 2500, 'cats': 2500}\n"
     ]
    }
   ],
   "source": [
    "import os\n",
    "\n",
    "# Paths to train and test directories\n",
    "train_dir = '/kaggle/input/cat-vs-dog/train'\n",
    "test_dir = '/kaggle/input/cat-vs-dog/test'\n",
    "\n",
    "def count_images_in_folder(folder_path):\n",
    "    # Dictionary to store counts for each subfolder\n",
    "    image_counts = {}\n",
    "    for subfolder in os.listdir(folder_path):\n",
    "        subfolder_path = os.path.join(folder_path, subfolder)\n",
    "        if os.path.isdir(subfolder_path):\n",
    "            # Count all files in the subfolder\n",
    "            image_counts[subfolder] = len([\n",
    "                f for f in os.listdir(subfolder_path)\n",
    "                if os.path.isfile(os.path.join(subfolder_path, f))\n",
    "            ])\n",
    "    return image_counts\n",
    "\n",
    "# Count images in train and test directories\n",
    "train_image_counts = count_images_in_folder(train_dir)\n",
    "test_image_counts = count_images_in_folder(test_dir)\n",
    "\n",
    "print(\"Train Image Counts:\", train_image_counts)\n",
    "print(\"Test Image Counts:\", test_image_counts)\n"
   ]
  },
  {
   "cell_type": "code",
   "execution_count": 5,
   "metadata": {
    "execution": {
     "iopub.execute_input": "2024-12-07T06:46:27.836014Z",
     "iopub.status.busy": "2024-12-07T06:46:27.835757Z",
     "iopub.status.idle": "2024-12-07T06:46:39.427241Z",
     "shell.execute_reply": "2024-12-07T06:46:39.426340Z",
     "shell.execute_reply.started": "2024-12-07T06:46:27.835989Z"
    }
   },
   "outputs": [],
   "source": [
    "import sys\n",
    "from matplotlib import pyplot as plt\n",
    "import tensorflow\n",
    "from tensorflow.keras.models import Sequential\n",
    "from tensorflow.keras.layers import Conv2D, MaxPooling2D, Flatten, Dense, Dropout\n",
    "from tensorflow.keras.optimizers import Adam\n",
    "from tensorflow.keras.preprocessing.image import ImageDataGenerator"
   ]
  },
  {
   "cell_type": "code",
   "execution_count": 6,
   "metadata": {
    "execution": {
     "iopub.execute_input": "2024-12-07T06:46:39.428759Z",
     "iopub.status.busy": "2024-12-07T06:46:39.428310Z",
     "iopub.status.idle": "2024-12-07T06:46:39.435727Z",
     "shell.execute_reply": "2024-12-07T06:46:39.434906Z",
     "shell.execute_reply.started": "2024-12-07T06:46:39.428731Z"
    }
   },
   "outputs": [],
   "source": [
    "def define_model():\n",
    "    model = Sequential()\n",
    "    model.add(Conv2D(32, (3, 3), activation='relu', kernel_initializer='he_uniform',\n",
    "                     padding='same', input_shape=(200, 200, 3)))\n",
    "    model.add(MaxPooling2D((2, 2)))\n",
    "    model.add(Dropout(0.1))\n",
    "\n",
    "    model.add(Conv2D(64, (3, 3), activation='relu', kernel_initializer='he_uniform',\n",
    "                     padding='same'))\n",
    "    model.add(MaxPooling2D((2, 2)))\n",
    "    model.add(Dropout(0.1))\n",
    "\n",
    "    model.add(Conv2D(128, (3, 3), activation='relu', kernel_initializer='he_uniform',\n",
    "                     padding='same'))\n",
    "    model.add(MaxPooling2D((2, 2)))\n",
    "    model.add(Dropout(0.1))\n",
    "\n",
    "    model.add(Flatten())\n",
    "    model.add(Dense(128, activation='relu', kernel_initializer='he_uniform'))\n",
    "    model.add(Dropout(0.3))\n",
    "\n",
    "    model.add(Dense(1, activation='sigmoid'))\n",
    "\n",
    "    # Compile the model\n",
    "    opt = Adam(learning_rate=0.0001)\n",
    "    model.compile(optimizer=opt, loss='binary_crossentropy', metrics=['accuracy'])\n",
    "\n",
    "    return model"
   ]
  },
  {
   "cell_type": "code",
   "execution_count": 9,
   "metadata": {
    "execution": {
     "iopub.execute_input": "2024-12-07T06:46:39.583577Z",
     "iopub.status.busy": "2024-12-07T06:46:39.583319Z",
     "iopub.status.idle": "2024-12-07T06:46:39.594974Z",
     "shell.execute_reply": "2024-12-07T06:46:39.594205Z",
     "shell.execute_reply.started": "2024-12-07T06:46:39.583554Z"
    }
   },
   "outputs": [],
   "source": [
    "import pandas as pd\n",
    "import matplotlib.pyplot as plt\n",
    "\n",
    "def plot_from_csv(file_path):\n",
    "    # Read the CSV file\n",
    "    data = pd.read_csv(file_path)\n",
    "\n",
    "    # Check if required columns exist\n",
    "    required_columns = {\"Epoch\", \"Train Accuracy\", \"Val Accuracy\", \"Train Loss\", \"Val Loss\"}\n",
    "    if not required_columns.issubset(data.columns):\n",
    "        print(f\"CSV file must contain the columns: {required_columns}\")\n",
    "        return\n",
    "\n",
    "    # Plot accuracy\n",
    "    plt.figure(figsize=(12, 6))\n",
    "    plt.subplot(1, 2, 1)\n",
    "    plt.plot(data['Epoch'], data['Train Accuracy'], label='Train Accuracy', marker='o')\n",
    "    plt.plot(data['Epoch'], data['Val Accuracy'], label='Validation Accuracy', marker='o')\n",
    "    plt.title('Accuracy over Epochs')\n",
    "    plt.xlabel('Epoch')\n",
    "    plt.ylabel('Accuracy')\n",
    "    plt.legend()\n",
    "    plt.grid(True)\n",
    "\n",
    "    # Plot loss\n",
    "    plt.subplot(1, 2, 2)\n",
    "    plt.plot(data['Epoch'], data['Train Loss'], label='Train Loss', marker='o')\n",
    "    plt.plot(data['Epoch'], data['Val Loss'], label='Validation Loss', marker='o')\n",
    "    plt.title('Loss over Epochs')\n",
    "    plt.xlabel('Epoch')\n",
    "    plt.ylabel('Loss')\n",
    "    plt.legend()\n",
    "    plt.grid(True)\n",
    "\n",
    "    # Show plots\n",
    "    plt.tight_layout()\n",
    "    plt.show()"
   ]
  },
  {
   "cell_type": "code",
   "execution_count": 10,
   "metadata": {
    "execution": {
     "iopub.execute_input": "2024-12-07T06:46:39.596105Z",
     "iopub.status.busy": "2024-12-07T06:46:39.595852Z",
     "iopub.status.idle": "2024-12-07T06:46:39.610283Z",
     "shell.execute_reply": "2024-12-07T06:46:39.609454Z",
     "shell.execute_reply.started": "2024-12-07T06:46:39.596081Z"
    }
   },
   "outputs": [],
   "source": [
    "import numpy as np\n",
    "import pandas as pd\n",
    "\n",
    "\n",
    "# Define the test harness\n",
    "def run_test_harness():\n",
    "    model = define_model()\n",
    "\n",
    "    # Data augmentation configuration\n",
    "    datagen = ImageDataGenerator(\n",
    "        rescale=1.0 / 255.0,\n",
    "        width_shift_range=0.1,  \n",
    "        height_shift_range=0.1, \n",
    "        horizontal_flip=True  \n",
    "    )\n",
    "\n",
    "    # Prepare iterators for training and testing datasets\n",
    "    train_it = datagen.flow_from_directory(\n",
    "        '/kaggle/input/cat-vs-dog/train/',\n",
    "        batch_size=32,\n",
    "        target_size=(200, 200),\n",
    "        class_mode='binary'\n",
    "    )\n",
    "\n",
    "    # For testing, no augmentation is applied, only rescaling\n",
    "    test_datagen = ImageDataGenerator(rescale=1.0 / 255.0)\n",
    "    test_it = test_datagen.flow_from_directory(\n",
    "        '/kaggle/input/cat-vs-dog/test/',\n",
    "        batch_size=32,\n",
    "        target_size=(200, 200),\n",
    "        class_mode='binary'\n",
    "    )\n",
    "\n",
    "    # Store accuracy and loss values\n",
    "    train_acc = []\n",
    "    val_acc = []\n",
    "    train_loss = []\n",
    "    val_loss = []\n",
    "\n",
    "    # Fit the model with correct steps_per_epoch and validation_steps\n",
    "    history = model.fit(\n",
    "        train_it,\n",
    "        validation_data=test_it,\n",
    "        epochs=100,\n",
    "    )\n",
    "\n",
    "    # Extract accuracy and loss values for each epoch\n",
    "    for epoch in range(100):  # Assuming 40 epochs\n",
    "        train_acc.append(history.history['accuracy'][epoch])\n",
    "        val_acc.append(history.history['val_accuracy'][epoch])\n",
    "        train_loss.append(history.history['loss'][epoch])\n",
    "        val_loss.append(history.history['val_loss'][epoch])\n",
    "\n",
    "    # Save the values in a DataFrame or CSV\n",
    "    data = {\n",
    "        'Epoch': np.arange(1, 101),\n",
    "        'Train Accuracy': train_acc,\n",
    "        'Val Accuracy': val_acc,\n",
    "        'Train Loss': train_loss,\n",
    "        'Val Loss': val_loss\n",
    "    }\n",
    "\n",
    "    df = pd.DataFrame(data)\n",
    "    df.to_csv('training_history.csv', index=False)  # Save to CSV in the Colab directory\n",
    "\n",
    "    print(df)\n"
   ]
  },
  {
   "cell_type": "code",
   "execution_count": 11,
   "metadata": {
    "execution": {
     "iopub.execute_input": "2024-12-07T06:46:39.611506Z",
     "iopub.status.busy": "2024-12-07T06:46:39.611227Z",
     "iopub.status.idle": "2024-12-07T11:56:18.423005Z",
     "shell.execute_reply": "2024-12-07T11:56:18.422062Z",
     "shell.execute_reply.started": "2024-12-07T06:46:39.611483Z"
    }
   },
   "outputs": [
    {
     "name": "stderr",
     "output_type": "stream",
     "text": [
      "/opt/conda/lib/python3.10/site-packages/keras/src/layers/convolutional/base_conv.py:107: UserWarning: Do not pass an `input_shape`/`input_dim` argument to a layer. When using Sequential models, prefer using an `Input(shape)` object as the first layer in the model instead.\n",
      "  super().__init__(activity_regularizer=activity_regularizer, **kwargs)\n"
     ]
    },
    {
     "name": "stdout",
     "output_type": "stream",
     "text": [
      "Found 20000 images belonging to 2 classes.\n",
      "Found 5000 images belonging to 2 classes.\n",
      "Epoch 1/100\n"
     ]
    },
    {
     "name": "stderr",
     "output_type": "stream",
     "text": [
      "/opt/conda/lib/python3.10/site-packages/keras/src/trainers/data_adapters/py_dataset_adapter.py:121: UserWarning: Your `PyDataset` class should call `super().__init__(**kwargs)` in its constructor. `**kwargs` can include `workers`, `use_multiprocessing`, `max_queue_size`. Do not pass these arguments to `fit()`, as they will be ignored.\n",
      "  self._warn_if_super_not_called()\n",
      "WARNING: All log messages before absl::InitializeLog() is called are written to STDERR\n",
      "I0000 00:00:1733554012.568811      96 service.cc:145] XLA service 0x793e98006830 initialized for platform CUDA (this does not guarantee that XLA will be used). Devices:\n",
      "I0000 00:00:1733554012.568884      96 service.cc:153]   StreamExecutor device (0): Tesla T4, Compute Capability 7.5\n",
      "I0000 00:00:1733554012.568890      96 service.cc:153]   StreamExecutor device (1): Tesla T4, Compute Capability 7.5\n"
     ]
    },
    {
     "name": "stdout",
     "output_type": "stream",
     "text": [
      "\u001b[1m  2/625\u001b[0m \u001b[37m━━━━━━━━━━━━━━━━━━━━\u001b[0m \u001b[1m35s\u001b[0m 58ms/step - accuracy: 0.4766 - loss: 3.7836   "
     ]
    },
    {
     "name": "stderr",
     "output_type": "stream",
     "text": [
      "I0000 00:00:1733554022.067044      96 device_compiler.h:188] Compiled cluster using XLA!  This line is logged at most once for the lifetime of the process.\n"
     ]
    },
    {
     "name": "stdout",
     "output_type": "stream",
     "text": [
      "\u001b[1m625/625\u001b[0m \u001b[32m━━━━━━━━━━━━━━━━━━━━\u001b[0m\u001b[37m\u001b[0m \u001b[1m252s\u001b[0m 382ms/step - accuracy: 0.5043 - loss: 0.9295 - val_accuracy: 0.6026 - val_loss: 0.6796\n",
      "Epoch 2/100\n",
      "\u001b[1m625/625\u001b[0m \u001b[32m━━━━━━━━━━━━━━━━━━━━\u001b[0m\u001b[37m\u001b[0m \u001b[1m187s\u001b[0m 296ms/step - accuracy: 0.5647 - loss: 0.6721 - val_accuracy: 0.6432 - val_loss: 0.6495\n",
      "Epoch 3/100\n",
      "\u001b[1m625/625\u001b[0m \u001b[32m━━━━━━━━━━━━━━━━━━━━\u001b[0m\u001b[37m\u001b[0m \u001b[1m186s\u001b[0m 294ms/step - accuracy: 0.5862 - loss: 0.6464 - val_accuracy: 0.6700 - val_loss: 0.6210\n",
      "Epoch 4/100\n",
      "\u001b[1m625/625\u001b[0m \u001b[32m━━━━━━━━━━━━━━━━━━━━\u001b[0m\u001b[37m\u001b[0m \u001b[1m184s\u001b[0m 291ms/step - accuracy: 0.6140 - loss: 0.6275 - val_accuracy: 0.6956 - val_loss: 0.6014\n",
      "Epoch 5/100\n",
      "\u001b[1m625/625\u001b[0m \u001b[32m━━━━━━━━━━━━━━━━━━━━\u001b[0m\u001b[37m\u001b[0m \u001b[1m188s\u001b[0m 298ms/step - accuracy: 0.6244 - loss: 0.6175 - val_accuracy: 0.7094 - val_loss: 0.5809\n",
      "Epoch 6/100\n",
      "\u001b[1m625/625\u001b[0m \u001b[32m━━━━━━━━━━━━━━━━━━━━\u001b[0m\u001b[37m\u001b[0m \u001b[1m185s\u001b[0m 293ms/step - accuracy: 0.6428 - loss: 0.5969 - val_accuracy: 0.7244 - val_loss: 0.5448\n",
      "Epoch 7/100\n",
      "\u001b[1m625/625\u001b[0m \u001b[32m━━━━━━━━━━━━━━━━━━━━\u001b[0m\u001b[37m\u001b[0m \u001b[1m187s\u001b[0m 295ms/step - accuracy: 0.6812 - loss: 0.5804 - val_accuracy: 0.7364 - val_loss: 0.5382\n",
      "Epoch 8/100\n",
      "\u001b[1m625/625\u001b[0m \u001b[32m━━━━━━━━━━━━━━━━━━━━\u001b[0m\u001b[37m\u001b[0m \u001b[1m185s\u001b[0m 292ms/step - accuracy: 0.7000 - loss: 0.5632 - val_accuracy: 0.7494 - val_loss: 0.5225\n",
      "Epoch 9/100\n",
      "\u001b[1m625/625\u001b[0m \u001b[32m━━━━━━━━━━━━━━━━━━━━\u001b[0m\u001b[37m\u001b[0m \u001b[1m186s\u001b[0m 294ms/step - accuracy: 0.7088 - loss: 0.5573 - val_accuracy: 0.7448 - val_loss: 0.5089\n",
      "Epoch 10/100\n",
      "\u001b[1m625/625\u001b[0m \u001b[32m━━━━━━━━━━━━━━━━━━━━\u001b[0m\u001b[37m\u001b[0m \u001b[1m187s\u001b[0m 295ms/step - accuracy: 0.7169 - loss: 0.5496 - val_accuracy: 0.7674 - val_loss: 0.4928\n",
      "Epoch 11/100\n",
      "\u001b[1m625/625\u001b[0m \u001b[32m━━━━━━━━━━━━━━━━━━━━\u001b[0m\u001b[37m\u001b[0m \u001b[1m186s\u001b[0m 295ms/step - accuracy: 0.7268 - loss: 0.5373 - val_accuracy: 0.7790 - val_loss: 0.4795\n",
      "Epoch 12/100\n",
      "\u001b[1m625/625\u001b[0m \u001b[32m━━━━━━━━━━━━━━━━━━━━\u001b[0m\u001b[37m\u001b[0m \u001b[1m187s\u001b[0m 296ms/step - accuracy: 0.7351 - loss: 0.5257 - val_accuracy: 0.7786 - val_loss: 0.4702\n",
      "Epoch 13/100\n",
      "\u001b[1m625/625\u001b[0m \u001b[32m━━━━━━━━━━━━━━━━━━━━\u001b[0m\u001b[37m\u001b[0m \u001b[1m186s\u001b[0m 295ms/step - accuracy: 0.7377 - loss: 0.5192 - val_accuracy: 0.7784 - val_loss: 0.4582\n",
      "Epoch 14/100\n",
      "\u001b[1m625/625\u001b[0m \u001b[32m━━━━━━━━━━━━━━━━━━━━\u001b[0m\u001b[37m\u001b[0m \u001b[1m185s\u001b[0m 293ms/step - accuracy: 0.7466 - loss: 0.5126 - val_accuracy: 0.7772 - val_loss: 0.4631\n",
      "Epoch 15/100\n",
      "\u001b[1m625/625\u001b[0m \u001b[32m━━━━━━━━━━━━━━━━━━━━\u001b[0m\u001b[37m\u001b[0m \u001b[1m185s\u001b[0m 293ms/step - accuracy: 0.7507 - loss: 0.5107 - val_accuracy: 0.8004 - val_loss: 0.4446\n",
      "Epoch 16/100\n",
      "\u001b[1m625/625\u001b[0m \u001b[32m━━━━━━━━━━━━━━━━━━━━\u001b[0m\u001b[37m\u001b[0m \u001b[1m187s\u001b[0m 296ms/step - accuracy: 0.7536 - loss: 0.5066 - val_accuracy: 0.8008 - val_loss: 0.4376\n",
      "Epoch 17/100\n",
      "\u001b[1m625/625\u001b[0m \u001b[32m━━━━━━━━━━━━━━━━━━━━\u001b[0m\u001b[37m\u001b[0m \u001b[1m185s\u001b[0m 293ms/step - accuracy: 0.7681 - loss: 0.4892 - val_accuracy: 0.8136 - val_loss: 0.4265\n",
      "Epoch 18/100\n",
      "\u001b[1m625/625\u001b[0m \u001b[32m━━━━━━━━━━━━━━━━━━━━\u001b[0m\u001b[37m\u001b[0m \u001b[1m185s\u001b[0m 293ms/step - accuracy: 0.7757 - loss: 0.4817 - val_accuracy: 0.8052 - val_loss: 0.4285\n",
      "Epoch 19/100\n",
      "\u001b[1m625/625\u001b[0m \u001b[32m━━━━━━━━━━━━━━━━━━━━\u001b[0m\u001b[37m\u001b[0m \u001b[1m186s\u001b[0m 295ms/step - accuracy: 0.7806 - loss: 0.4800 - val_accuracy: 0.7962 - val_loss: 0.4323\n",
      "Epoch 20/100\n",
      "\u001b[1m625/625\u001b[0m \u001b[32m━━━━━━━━━━━━━━━━━━━━\u001b[0m\u001b[37m\u001b[0m \u001b[1m185s\u001b[0m 293ms/step - accuracy: 0.7801 - loss: 0.4803 - val_accuracy: 0.8032 - val_loss: 0.4222\n",
      "Epoch 21/100\n",
      "\u001b[1m625/625\u001b[0m \u001b[32m━━━━━━━━━━━━━━━━━━━━\u001b[0m\u001b[37m\u001b[0m \u001b[1m185s\u001b[0m 292ms/step - accuracy: 0.7908 - loss: 0.4644 - val_accuracy: 0.8098 - val_loss: 0.4164\n",
      "Epoch 22/100\n",
      "\u001b[1m625/625\u001b[0m \u001b[32m━━━━━━━━━━━━━━━━━━━━\u001b[0m\u001b[37m\u001b[0m \u001b[1m185s\u001b[0m 292ms/step - accuracy: 0.7864 - loss: 0.4652 - val_accuracy: 0.8184 - val_loss: 0.4005\n",
      "Epoch 23/100\n",
      "\u001b[1m625/625\u001b[0m \u001b[32m━━━━━━━━━━━━━━━━━━━━\u001b[0m\u001b[37m\u001b[0m \u001b[1m186s\u001b[0m 294ms/step - accuracy: 0.7937 - loss: 0.4586 - val_accuracy: 0.8146 - val_loss: 0.4011\n",
      "Epoch 24/100\n",
      "\u001b[1m625/625\u001b[0m \u001b[32m━━━━━━━━━━━━━━━━━━━━\u001b[0m\u001b[37m\u001b[0m \u001b[1m185s\u001b[0m 293ms/step - accuracy: 0.7944 - loss: 0.4587 - val_accuracy: 0.8244 - val_loss: 0.3932\n",
      "Epoch 25/100\n",
      "\u001b[1m625/625\u001b[0m \u001b[32m━━━━━━━━━━━━━━━━━━━━\u001b[0m\u001b[37m\u001b[0m \u001b[1m185s\u001b[0m 293ms/step - accuracy: 0.8015 - loss: 0.4522 - val_accuracy: 0.8296 - val_loss: 0.3844\n",
      "Epoch 26/100\n",
      "\u001b[1m625/625\u001b[0m \u001b[32m━━━━━━━━━━━━━━━━━━━━\u001b[0m\u001b[37m\u001b[0m \u001b[1m184s\u001b[0m 291ms/step - accuracy: 0.7973 - loss: 0.4482 - val_accuracy: 0.8326 - val_loss: 0.3787\n",
      "Epoch 27/100\n",
      "\u001b[1m625/625\u001b[0m \u001b[32m━━━━━━━━━━━━━━━━━━━━\u001b[0m\u001b[37m\u001b[0m \u001b[1m185s\u001b[0m 292ms/step - accuracy: 0.8074 - loss: 0.4387 - val_accuracy: 0.8264 - val_loss: 0.3811\n",
      "Epoch 28/100\n",
      "\u001b[1m625/625\u001b[0m \u001b[32m━━━━━━━━━━━━━━━━━━━━\u001b[0m\u001b[37m\u001b[0m \u001b[1m186s\u001b[0m 295ms/step - accuracy: 0.8064 - loss: 0.4394 - val_accuracy: 0.8302 - val_loss: 0.3746\n",
      "Epoch 29/100\n",
      "\u001b[1m625/625\u001b[0m \u001b[32m━━━━━━━━━━━━━━━━━━━━\u001b[0m\u001b[37m\u001b[0m \u001b[1m185s\u001b[0m 293ms/step - accuracy: 0.8106 - loss: 0.4319 - val_accuracy: 0.8336 - val_loss: 0.3754\n",
      "Epoch 30/100\n",
      "\u001b[1m625/625\u001b[0m \u001b[32m━━━━━━━━━━━━━━━━━━━━\u001b[0m\u001b[37m\u001b[0m \u001b[1m186s\u001b[0m 294ms/step - accuracy: 0.8076 - loss: 0.4333 - val_accuracy: 0.8232 - val_loss: 0.3823\n",
      "Epoch 31/100\n",
      "\u001b[1m625/625\u001b[0m \u001b[32m━━━━━━━━━━━━━━━━━━━━\u001b[0m\u001b[37m\u001b[0m \u001b[1m185s\u001b[0m 293ms/step - accuracy: 0.8177 - loss: 0.4289 - val_accuracy: 0.8314 - val_loss: 0.3719\n",
      "Epoch 32/100\n",
      "\u001b[1m625/625\u001b[0m \u001b[32m━━━━━━━━━━━━━━━━━━━━\u001b[0m\u001b[37m\u001b[0m \u001b[1m184s\u001b[0m 291ms/step - accuracy: 0.8194 - loss: 0.4194 - val_accuracy: 0.8324 - val_loss: 0.3699\n",
      "Epoch 33/100\n",
      "\u001b[1m625/625\u001b[0m \u001b[32m━━━━━━━━━━━━━━━━━━━━\u001b[0m\u001b[37m\u001b[0m \u001b[1m184s\u001b[0m 292ms/step - accuracy: 0.8201 - loss: 0.4221 - val_accuracy: 0.8476 - val_loss: 0.3556\n",
      "Epoch 34/100\n",
      "\u001b[1m625/625\u001b[0m \u001b[32m━━━━━━━━━━━━━━━━━━━━\u001b[0m\u001b[37m\u001b[0m \u001b[1m186s\u001b[0m 294ms/step - accuracy: 0.8220 - loss: 0.4288 - val_accuracy: 0.8396 - val_loss: 0.3553\n",
      "Epoch 35/100\n",
      "\u001b[1m625/625\u001b[0m \u001b[32m━━━━━━━━━━━━━━━━━━━━\u001b[0m\u001b[37m\u001b[0m \u001b[1m186s\u001b[0m 294ms/step - accuracy: 0.8262 - loss: 0.4068 - val_accuracy: 0.8470 - val_loss: 0.3455\n",
      "Epoch 36/100\n",
      "\u001b[1m625/625\u001b[0m \u001b[32m━━━━━━━━━━━━━━━━━━━━\u001b[0m\u001b[37m\u001b[0m \u001b[1m187s\u001b[0m 295ms/step - accuracy: 0.8306 - loss: 0.4025 - val_accuracy: 0.8432 - val_loss: 0.3497\n",
      "Epoch 37/100\n",
      "\u001b[1m625/625\u001b[0m \u001b[32m━━━━━━━━━━━━━━━━━━━━\u001b[0m\u001b[37m\u001b[0m \u001b[1m184s\u001b[0m 292ms/step - accuracy: 0.8311 - loss: 0.4006 - val_accuracy: 0.8494 - val_loss: 0.3424\n",
      "Epoch 38/100\n",
      "\u001b[1m625/625\u001b[0m \u001b[32m━━━━━━━━━━━━━━━━━━━━\u001b[0m\u001b[37m\u001b[0m \u001b[1m185s\u001b[0m 293ms/step - accuracy: 0.8262 - loss: 0.4039 - val_accuracy: 0.8434 - val_loss: 0.3486\n",
      "Epoch 39/100\n",
      "\u001b[1m625/625\u001b[0m \u001b[32m━━━━━━━━━━━━━━━━━━━━\u001b[0m\u001b[37m\u001b[0m \u001b[1m185s\u001b[0m 293ms/step - accuracy: 0.8319 - loss: 0.3955 - val_accuracy: 0.8412 - val_loss: 0.3457\n",
      "Epoch 40/100\n",
      "\u001b[1m625/625\u001b[0m \u001b[32m━━━━━━━━━━━━━━━━━━━━\u001b[0m\u001b[37m\u001b[0m \u001b[1m185s\u001b[0m 293ms/step - accuracy: 0.8317 - loss: 0.3887 - val_accuracy: 0.8558 - val_loss: 0.3325\n",
      "Epoch 41/100\n",
      "\u001b[1m625/625\u001b[0m \u001b[32m━━━━━━━━━━━━━━━━━━━━\u001b[0m\u001b[37m\u001b[0m \u001b[1m186s\u001b[0m 294ms/step - accuracy: 0.8371 - loss: 0.3778 - val_accuracy: 0.8516 - val_loss: 0.3338\n",
      "Epoch 42/100\n",
      "\u001b[1m625/625\u001b[0m \u001b[32m━━━━━━━━━━━━━━━━━━━━\u001b[0m\u001b[37m\u001b[0m \u001b[1m184s\u001b[0m 291ms/step - accuracy: 0.8344 - loss: 0.3824 - val_accuracy: 0.8410 - val_loss: 0.3477\n",
      "Epoch 43/100\n",
      "\u001b[1m625/625\u001b[0m \u001b[32m━━━━━━━━━━━━━━━━━━━━\u001b[0m\u001b[37m\u001b[0m \u001b[1m185s\u001b[0m 293ms/step - accuracy: 0.8294 - loss: 0.3835 - val_accuracy: 0.8592 - val_loss: 0.3281\n",
      "Epoch 44/100\n",
      "\u001b[1m625/625\u001b[0m \u001b[32m━━━━━━━━━━━━━━━━━━━━\u001b[0m\u001b[37m\u001b[0m \u001b[1m183s\u001b[0m 289ms/step - accuracy: 0.8344 - loss: 0.3765 - val_accuracy: 0.8556 - val_loss: 0.3247\n",
      "Epoch 45/100\n",
      "\u001b[1m625/625\u001b[0m \u001b[32m━━━━━━━━━━━━━━━━━━━━\u001b[0m\u001b[37m\u001b[0m \u001b[1m183s\u001b[0m 289ms/step - accuracy: 0.8359 - loss: 0.3752 - val_accuracy: 0.8576 - val_loss: 0.3234\n",
      "Epoch 46/100\n",
      "\u001b[1m625/625\u001b[0m \u001b[32m━━━━━━━━━━━━━━━━━━━━\u001b[0m\u001b[37m\u001b[0m \u001b[1m183s\u001b[0m 290ms/step - accuracy: 0.8442 - loss: 0.3603 - val_accuracy: 0.8642 - val_loss: 0.3194\n",
      "Epoch 47/100\n",
      "\u001b[1m625/625\u001b[0m \u001b[32m━━━━━━━━━━━━━━━━━━━━\u001b[0m\u001b[37m\u001b[0m \u001b[1m185s\u001b[0m 292ms/step - accuracy: 0.8438 - loss: 0.3614 - val_accuracy: 0.8574 - val_loss: 0.3216\n",
      "Epoch 48/100\n",
      "\u001b[1m625/625\u001b[0m \u001b[32m━━━━━━━━━━━━━━━━━━━━\u001b[0m\u001b[37m\u001b[0m \u001b[1m188s\u001b[0m 297ms/step - accuracy: 0.8436 - loss: 0.3596 - val_accuracy: 0.8660 - val_loss: 0.3107\n",
      "Epoch 49/100\n",
      "\u001b[1m625/625\u001b[0m \u001b[32m━━━━━━━━━━━━━━━━━━━━\u001b[0m\u001b[37m\u001b[0m \u001b[1m182s\u001b[0m 288ms/step - accuracy: 0.8474 - loss: 0.3512 - val_accuracy: 0.8544 - val_loss: 0.3246\n",
      "Epoch 50/100\n",
      "\u001b[1m625/625\u001b[0m \u001b[32m━━━━━━━━━━━━━━━━━━━━\u001b[0m\u001b[37m\u001b[0m \u001b[1m183s\u001b[0m 289ms/step - accuracy: 0.8487 - loss: 0.3494 - val_accuracy: 0.8652 - val_loss: 0.3106\n",
      "Epoch 51/100\n",
      "\u001b[1m625/625\u001b[0m \u001b[32m━━━━━━━━━━━━━━━━━━━━\u001b[0m\u001b[37m\u001b[0m \u001b[1m184s\u001b[0m 292ms/step - accuracy: 0.8535 - loss: 0.3471 - val_accuracy: 0.8654 - val_loss: 0.3109\n",
      "Epoch 52/100\n",
      "\u001b[1m625/625\u001b[0m \u001b[32m━━━━━━━━━━━━━━━━━━━━\u001b[0m\u001b[37m\u001b[0m \u001b[1m187s\u001b[0m 296ms/step - accuracy: 0.8485 - loss: 0.3484 - val_accuracy: 0.8718 - val_loss: 0.3032\n",
      "Epoch 53/100\n",
      "\u001b[1m625/625\u001b[0m \u001b[32m━━━━━━━━━━━━━━━━━━━━\u001b[0m\u001b[37m\u001b[0m \u001b[1m183s\u001b[0m 290ms/step - accuracy: 0.8548 - loss: 0.3403 - val_accuracy: 0.8600 - val_loss: 0.3151\n",
      "Epoch 54/100\n",
      "\u001b[1m625/625\u001b[0m \u001b[32m━━━━━━━━━━━━━━━━━━━━\u001b[0m\u001b[37m\u001b[0m \u001b[1m183s\u001b[0m 289ms/step - accuracy: 0.8463 - loss: 0.3510 - val_accuracy: 0.8636 - val_loss: 0.3083\n",
      "Epoch 55/100\n",
      "\u001b[1m625/625\u001b[0m \u001b[32m━━━━━━━━━━━━━━━━━━━━\u001b[0m\u001b[37m\u001b[0m \u001b[1m186s\u001b[0m 294ms/step - accuracy: 0.8530 - loss: 0.3406 - val_accuracy: 0.8756 - val_loss: 0.3037\n",
      "Epoch 56/100\n",
      "\u001b[1m625/625\u001b[0m \u001b[32m━━━━━━━━━━━━━━━━━━━━\u001b[0m\u001b[37m\u001b[0m \u001b[1m184s\u001b[0m 290ms/step - accuracy: 0.8529 - loss: 0.3365 - val_accuracy: 0.8744 - val_loss: 0.3008\n",
      "Epoch 57/100\n",
      "\u001b[1m625/625\u001b[0m \u001b[32m━━━━━━━━━━━━━━━━━━━━\u001b[0m\u001b[37m\u001b[0m \u001b[1m185s\u001b[0m 293ms/step - accuracy: 0.8532 - loss: 0.3356 - val_accuracy: 0.8678 - val_loss: 0.3104\n",
      "Epoch 58/100\n",
      "\u001b[1m625/625\u001b[0m \u001b[32m━━━━━━━━━━━━━━━━━━━━\u001b[0m\u001b[37m\u001b[0m \u001b[1m185s\u001b[0m 292ms/step - accuracy: 0.8541 - loss: 0.3357 - val_accuracy: 0.8766 - val_loss: 0.2876\n",
      "Epoch 59/100\n",
      "\u001b[1m625/625\u001b[0m \u001b[32m━━━━━━━━━━━━━━━━━━━━\u001b[0m\u001b[37m\u001b[0m \u001b[1m185s\u001b[0m 293ms/step - accuracy: 0.8591 - loss: 0.3321 - val_accuracy: 0.8608 - val_loss: 0.3096\n",
      "Epoch 60/100\n",
      "\u001b[1m625/625\u001b[0m \u001b[32m━━━━━━━━━━━━━━━━━━━━\u001b[0m\u001b[37m\u001b[0m \u001b[1m186s\u001b[0m 295ms/step - accuracy: 0.8613 - loss: 0.3265 - val_accuracy: 0.8676 - val_loss: 0.3124\n",
      "Epoch 61/100\n",
      "\u001b[1m625/625\u001b[0m \u001b[32m━━━━━━━━━━━━━━━━━━━━\u001b[0m\u001b[37m\u001b[0m \u001b[1m184s\u001b[0m 292ms/step - accuracy: 0.8647 - loss: 0.3291 - val_accuracy: 0.8744 - val_loss: 0.2931\n",
      "Epoch 62/100\n",
      "\u001b[1m625/625\u001b[0m \u001b[32m━━━━━━━━━━━━━━━━━━━━\u001b[0m\u001b[37m\u001b[0m \u001b[1m187s\u001b[0m 295ms/step - accuracy: 0.8669 - loss: 0.3185 - val_accuracy: 0.8664 - val_loss: 0.3143\n",
      "Epoch 63/100\n",
      "\u001b[1m625/625\u001b[0m \u001b[32m━━━━━━━━━━━━━━━━━━━━\u001b[0m\u001b[37m\u001b[0m \u001b[1m186s\u001b[0m 294ms/step - accuracy: 0.8625 - loss: 0.3224 - val_accuracy: 0.8744 - val_loss: 0.2942\n",
      "Epoch 64/100\n",
      "\u001b[1m625/625\u001b[0m \u001b[32m━━━━━━━━━━━━━━━━━━━━\u001b[0m\u001b[37m\u001b[0m \u001b[1m185s\u001b[0m 293ms/step - accuracy: 0.8598 - loss: 0.3285 - val_accuracy: 0.8738 - val_loss: 0.2847\n",
      "Epoch 65/100\n",
      "\u001b[1m625/625\u001b[0m \u001b[32m━━━━━━━━━━━━━━━━━━━━\u001b[0m\u001b[37m\u001b[0m \u001b[1m183s\u001b[0m 289ms/step - accuracy: 0.8658 - loss: 0.3174 - val_accuracy: 0.8722 - val_loss: 0.3031\n",
      "Epoch 66/100\n",
      "\u001b[1m625/625\u001b[0m \u001b[32m━━━━━━━━━━━━━━━━━━━━\u001b[0m\u001b[37m\u001b[0m \u001b[1m186s\u001b[0m 294ms/step - accuracy: 0.8679 - loss: 0.3125 - val_accuracy: 0.8790 - val_loss: 0.2914\n",
      "Epoch 67/100\n",
      "\u001b[1m625/625\u001b[0m \u001b[32m━━━━━━━━━━━━━━━━━━━━\u001b[0m\u001b[37m\u001b[0m \u001b[1m185s\u001b[0m 292ms/step - accuracy: 0.8675 - loss: 0.3122 - val_accuracy: 0.8820 - val_loss: 0.2864\n",
      "Epoch 68/100\n",
      "\u001b[1m625/625\u001b[0m \u001b[32m━━━━━━━━━━━━━━━━━━━━\u001b[0m\u001b[37m\u001b[0m \u001b[1m185s\u001b[0m 292ms/step - accuracy: 0.8750 - loss: 0.3017 - val_accuracy: 0.8760 - val_loss: 0.2901\n",
      "Epoch 69/100\n",
      "\u001b[1m625/625\u001b[0m \u001b[32m━━━━━━━━━━━━━━━━━━━━\u001b[0m\u001b[37m\u001b[0m \u001b[1m183s\u001b[0m 290ms/step - accuracy: 0.8725 - loss: 0.3018 - val_accuracy: 0.8680 - val_loss: 0.2961\n",
      "Epoch 70/100\n",
      "\u001b[1m625/625\u001b[0m \u001b[32m━━━━━━━━━━━━━━━━━━━━\u001b[0m\u001b[37m\u001b[0m \u001b[1m187s\u001b[0m 295ms/step - accuracy: 0.8740 - loss: 0.2953 - val_accuracy: 0.8828 - val_loss: 0.2788\n",
      "Epoch 71/100\n",
      "\u001b[1m625/625\u001b[0m \u001b[32m━━━━━━━━━━━━━━━━━━━━\u001b[0m\u001b[37m\u001b[0m \u001b[1m184s\u001b[0m 292ms/step - accuracy: 0.8780 - loss: 0.2917 - val_accuracy: 0.8798 - val_loss: 0.2812\n",
      "Epoch 72/100\n",
      "\u001b[1m625/625\u001b[0m \u001b[32m━━━━━━━━━━━━━━━━━━━━\u001b[0m\u001b[37m\u001b[0m \u001b[1m185s\u001b[0m 293ms/step - accuracy: 0.8735 - loss: 0.3046 - val_accuracy: 0.8770 - val_loss: 0.2814\n",
      "Epoch 73/100\n",
      "\u001b[1m625/625\u001b[0m \u001b[32m━━━━━━━━━━━━━━━━━━━━\u001b[0m\u001b[37m\u001b[0m \u001b[1m184s\u001b[0m 291ms/step - accuracy: 0.8820 - loss: 0.2908 - val_accuracy: 0.8598 - val_loss: 0.3315\n",
      "Epoch 74/100\n",
      "\u001b[1m625/625\u001b[0m \u001b[32m━━━━━━━━━━━━━━━━━━━━\u001b[0m\u001b[37m\u001b[0m \u001b[1m186s\u001b[0m 295ms/step - accuracy: 0.8816 - loss: 0.2866 - val_accuracy: 0.8900 - val_loss: 0.2666\n",
      "Epoch 75/100\n",
      "\u001b[1m625/625\u001b[0m \u001b[32m━━━━━━━━━━━━━━━━━━━━\u001b[0m\u001b[37m\u001b[0m \u001b[1m186s\u001b[0m 295ms/step - accuracy: 0.8781 - loss: 0.2929 - val_accuracy: 0.8746 - val_loss: 0.2965\n",
      "Epoch 76/100\n",
      "\u001b[1m625/625\u001b[0m \u001b[32m━━━━━━━━━━━━━━━━━━━━\u001b[0m\u001b[37m\u001b[0m \u001b[1m184s\u001b[0m 291ms/step - accuracy: 0.8790 - loss: 0.2864 - val_accuracy: 0.8910 - val_loss: 0.2681\n",
      "Epoch 77/100\n",
      "\u001b[1m625/625\u001b[0m \u001b[32m━━━━━━━━━━━━━━━━━━━━\u001b[0m\u001b[37m\u001b[0m \u001b[1m184s\u001b[0m 291ms/step - accuracy: 0.8809 - loss: 0.2837 - val_accuracy: 0.8908 - val_loss: 0.2693\n",
      "Epoch 78/100\n",
      "\u001b[1m625/625\u001b[0m \u001b[32m━━━━━━━━━━━━━━━━━━━━\u001b[0m\u001b[37m\u001b[0m \u001b[1m185s\u001b[0m 293ms/step - accuracy: 0.8822 - loss: 0.2895 - val_accuracy: 0.8824 - val_loss: 0.2847\n",
      "Epoch 79/100\n",
      "\u001b[1m625/625\u001b[0m \u001b[32m━━━━━━━━━━━━━━━━━━━━\u001b[0m\u001b[37m\u001b[0m \u001b[1m184s\u001b[0m 291ms/step - accuracy: 0.8908 - loss: 0.2757 - val_accuracy: 0.8832 - val_loss: 0.2891\n",
      "Epoch 80/100\n",
      "\u001b[1m625/625\u001b[0m \u001b[32m━━━━━━━━━━━━━━━━━━━━\u001b[0m\u001b[37m\u001b[0m \u001b[1m184s\u001b[0m 292ms/step - accuracy: 0.8797 - loss: 0.2772 - val_accuracy: 0.8836 - val_loss: 0.2772\n",
      "Epoch 81/100\n",
      "\u001b[1m625/625\u001b[0m \u001b[32m━━━━━━━━━━━━━━━━━━━━\u001b[0m\u001b[37m\u001b[0m \u001b[1m186s\u001b[0m 294ms/step - accuracy: 0.8846 - loss: 0.2774 - val_accuracy: 0.8892 - val_loss: 0.2740\n",
      "Epoch 82/100\n",
      "\u001b[1m625/625\u001b[0m \u001b[32m━━━━━━━━━━━━━━━━━━━━\u001b[0m\u001b[37m\u001b[0m \u001b[1m186s\u001b[0m 295ms/step - accuracy: 0.8886 - loss: 0.2724 - val_accuracy: 0.8918 - val_loss: 0.2652\n",
      "Epoch 83/100\n",
      "\u001b[1m625/625\u001b[0m \u001b[32m━━━━━━━━━━━━━━━━━━━━\u001b[0m\u001b[37m\u001b[0m \u001b[1m188s\u001b[0m 298ms/step - accuracy: 0.8867 - loss: 0.2677 - val_accuracy: 0.8944 - val_loss: 0.2637\n",
      "Epoch 84/100\n",
      "\u001b[1m625/625\u001b[0m \u001b[32m━━━━━━━━━━━━━━━━━━━━\u001b[0m\u001b[37m\u001b[0m \u001b[1m183s\u001b[0m 289ms/step - accuracy: 0.8878 - loss: 0.2698 - val_accuracy: 0.8856 - val_loss: 0.2733\n",
      "Epoch 85/100\n",
      "\u001b[1m625/625\u001b[0m \u001b[32m━━━━━━━━━━━━━━━━━━━━\u001b[0m\u001b[37m\u001b[0m \u001b[1m183s\u001b[0m 290ms/step - accuracy: 0.8859 - loss: 0.2653 - val_accuracy: 0.8918 - val_loss: 0.2659\n",
      "Epoch 86/100\n",
      "\u001b[1m625/625\u001b[0m \u001b[32m━━━━━━━━━━━━━━━━━━━━\u001b[0m\u001b[37m\u001b[0m \u001b[1m184s\u001b[0m 292ms/step - accuracy: 0.8912 - loss: 0.2684 - val_accuracy: 0.8862 - val_loss: 0.2741\n",
      "Epoch 87/100\n",
      "\u001b[1m625/625\u001b[0m \u001b[32m━━━━━━━━━━━━━━━━━━━━\u001b[0m\u001b[37m\u001b[0m \u001b[1m186s\u001b[0m 294ms/step - accuracy: 0.8957 - loss: 0.2535 - val_accuracy: 0.8852 - val_loss: 0.2674\n",
      "Epoch 88/100\n",
      "\u001b[1m625/625\u001b[0m \u001b[32m━━━━━━━━━━━━━━━━━━━━\u001b[0m\u001b[37m\u001b[0m \u001b[1m183s\u001b[0m 290ms/step - accuracy: 0.8895 - loss: 0.2608 - val_accuracy: 0.8914 - val_loss: 0.2672\n",
      "Epoch 89/100\n",
      "\u001b[1m625/625\u001b[0m \u001b[32m━━━━━━━━━━━━━━━━━━━━\u001b[0m\u001b[37m\u001b[0m \u001b[1m184s\u001b[0m 291ms/step - accuracy: 0.8922 - loss: 0.2650 - val_accuracy: 0.8900 - val_loss: 0.2632\n",
      "Epoch 90/100\n",
      "\u001b[1m625/625\u001b[0m \u001b[32m━━━━━━━━━━━━━━━━━━━━\u001b[0m\u001b[37m\u001b[0m \u001b[1m184s\u001b[0m 291ms/step - accuracy: 0.8989 - loss: 0.2491 - val_accuracy: 0.8928 - val_loss: 0.2619\n",
      "Epoch 91/100\n",
      "\u001b[1m625/625\u001b[0m \u001b[32m━━━━━━━━━━━━━━━━━━━━\u001b[0m\u001b[37m\u001b[0m \u001b[1m186s\u001b[0m 295ms/step - accuracy: 0.8964 - loss: 0.2596 - val_accuracy: 0.8920 - val_loss: 0.2559\n",
      "Epoch 92/100\n",
      "\u001b[1m625/625\u001b[0m \u001b[32m━━━━━━━━━━━━━━━━━━━━\u001b[0m\u001b[37m\u001b[0m \u001b[1m185s\u001b[0m 293ms/step - accuracy: 0.8962 - loss: 0.2585 - val_accuracy: 0.8936 - val_loss: 0.2582\n",
      "Epoch 93/100\n",
      "\u001b[1m625/625\u001b[0m \u001b[32m━━━━━━━━━━━━━━━━━━━━\u001b[0m\u001b[37m\u001b[0m \u001b[1m183s\u001b[0m 290ms/step - accuracy: 0.8947 - loss: 0.2545 - val_accuracy: 0.8902 - val_loss: 0.2722\n",
      "Epoch 94/100\n",
      "\u001b[1m625/625\u001b[0m \u001b[32m━━━━━━━━━━━━━━━━━━━━\u001b[0m\u001b[37m\u001b[0m \u001b[1m186s\u001b[0m 294ms/step - accuracy: 0.8990 - loss: 0.2520 - val_accuracy: 0.8960 - val_loss: 0.2522\n",
      "Epoch 95/100\n",
      "\u001b[1m625/625\u001b[0m \u001b[32m━━━━━━━━━━━━━━━━━━━━\u001b[0m\u001b[37m\u001b[0m \u001b[1m186s\u001b[0m 295ms/step - accuracy: 0.9000 - loss: 0.2500 - val_accuracy: 0.8848 - val_loss: 0.2731\n",
      "Epoch 96/100\n",
      "\u001b[1m625/625\u001b[0m \u001b[32m━━━━━━━━━━━━━━━━━━━━\u001b[0m\u001b[37m\u001b[0m \u001b[1m185s\u001b[0m 294ms/step - accuracy: 0.9003 - loss: 0.2439 - val_accuracy: 0.8926 - val_loss: 0.2506\n",
      "Epoch 97/100\n",
      "\u001b[1m625/625\u001b[0m \u001b[32m━━━━━━━━━━━━━━━━━━━━\u001b[0m\u001b[37m\u001b[0m \u001b[1m184s\u001b[0m 291ms/step - accuracy: 0.9053 - loss: 0.2374 - val_accuracy: 0.9022 - val_loss: 0.2519\n",
      "Epoch 98/100\n",
      "\u001b[1m625/625\u001b[0m \u001b[32m━━━━━━━━━━━━━━━━━━━━\u001b[0m\u001b[37m\u001b[0m \u001b[1m186s\u001b[0m 294ms/step - accuracy: 0.9029 - loss: 0.2433 - val_accuracy: 0.8986 - val_loss: 0.2493\n",
      "Epoch 99/100\n",
      "\u001b[1m625/625\u001b[0m \u001b[32m━━━━━━━━━━━━━━━━━━━━\u001b[0m\u001b[37m\u001b[0m \u001b[1m186s\u001b[0m 294ms/step - accuracy: 0.9016 - loss: 0.2365 - val_accuracy: 0.8904 - val_loss: 0.2610\n",
      "Epoch 100/100\n",
      "\u001b[1m625/625\u001b[0m \u001b[32m━━━━━━━━━━━━━━━━━━━━\u001b[0m\u001b[37m\u001b[0m \u001b[1m184s\u001b[0m 292ms/step - accuracy: 0.9004 - loss: 0.2433 - val_accuracy: 0.8970 - val_loss: 0.2635\n",
      "    Epoch  Train Accuracy  Val Accuracy  Train Loss  Val Loss\n",
      "0       1         0.52040        0.6026    0.734504  0.679617\n",
      "1       2         0.57200        0.6432    0.666253  0.649466\n",
      "2       3         0.59780        0.6700    0.642241  0.620953\n",
      "3       4         0.61780        0.6956    0.626275  0.601386\n",
      "4       5         0.63185        0.7094    0.612188  0.580918\n",
      "..    ...             ...           ...         ...       ...\n",
      "95     96         0.90105        0.8926    0.242456  0.250621\n",
      "96     97         0.90195        0.9022    0.242950  0.251907\n",
      "97     98         0.90020        0.8986    0.245210  0.249338\n",
      "98     99         0.90090        0.8904    0.240068  0.261016\n",
      "99    100         0.90140        0.8970    0.238696  0.263476\n",
      "\n",
      "[100 rows x 5 columns]\n"
     ]
    }
   ],
   "source": [
    "run_test_harness()"
   ]
  },
  {
   "cell_type": "code",
   "execution_count": 12,
   "metadata": {
    "execution": {
     "iopub.execute_input": "2024-12-07T11:56:18.424292Z",
     "iopub.status.busy": "2024-12-07T11:56:18.424011Z",
     "iopub.status.idle": "2024-12-07T11:56:19.001601Z",
     "shell.execute_reply": "2024-12-07T11:56:19.000761Z",
     "shell.execute_reply.started": "2024-12-07T11:56:18.424267Z"
    }
   },
   "outputs": [
    {
     "data": {
      "image/png": "[encoded data removed]",
      "text/plain": [
       "<Figure size 1200x600 with 2 Axes>"
      ]
     },
     "metadata": {},
     "output_type": "display_data"
    }
   ],
   "source": [
    "plot_from_csv('training_history.csv')"
   ]
  },
  {
   "cell_type": "code",
   "execution_count": null,
   "metadata": {},
   "outputs": [],
   "source": []
  },
  {
   "cell_type": "code",
   "execution_count": null,
   "metadata": {},
   "outputs": [],
   "source": []
  },
  {
   "cell_type": "code",
   "execution_count": null,
   "metadata": {},
   "outputs": [],
   "source": []
  },
  {
   "cell_type": "code",
   "execution_count": null,
   "metadata": {},
   "outputs": [],
   "source": []
  },
  {
   "cell_type": "code",
   "execution_count": null,
   "metadata": {},
   "outputs": [],
   "source": []
  },
  {
   "cell_type": "code",
   "execution_count": null,
   "metadata": {},
   "outputs": [],
   "source": []
  },
  {
   "cell_type": "code",
   "execution_count": null,
   "metadata": {},
   "outputs": [],
   "source": []
  },
  {
   "cell_type": "code",
   "execution_count": null,
   "metadata": {},
   "outputs": [],
   "source": []
  },
  {
   "cell_type": "code",
   "execution_count": null,
   "metadata": {},
   "outputs": [],
   "source": []
  },
  {
   "cell_type": "code",
   "execution_count": null,
   "metadata": {},
   "outputs": [],
   "source": []
  },
  {
   "cell_type": "code",
   "execution_count": null,
   "metadata": {},
   "outputs": [],
   "source": []
  }
 ],
 "metadata": {
  "kaggle": {
   "accelerator": "nvidiaTeslaT4",
   "dataSources": [
    {
     "datasetId": 6247702,
     "sourceId": 10124576,
     "sourceType": "datasetVersion"
    }
   ],
   "dockerImageVersionId": 30805,
   "isGpuEnabled": true,
   "isInternetEnabled": true,
   "language": "python",
   "sourceType": "notebook"
  },
  "kernelspec": {
   "display_name": "Python 3 (ipykernel)",
   "language": "python",
   "name": "python3"
  },
  "language_info": {
   "codemirror_mode": {
    "name": "ipython",
    "version": 3
   },
   "file_extension": ".py",
   "mimetype": "text/x-python",
   "name": "python",
   "nbconvert_exporter": "python",
   "pygments_lexer": "ipython3",
   "version": "3.11.5"
  }
 },
 "nbformat": 4,
 "nbformat_minor": 4
}

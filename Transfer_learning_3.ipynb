{
  "cells": [
    {
      "cell_type": "code",
      "execution_count": null,
      "metadata": {
        "_cell_guid": "b1076dfc-b9ad-4769-8c92-a6c4dae69d19",
        "_uuid": "8f2839f25d086af736a60e9eeb907d3b93b6e0e5",
        "id": "gYngWjDzZcuA"
      },
      "outputs": [],
      "source": [
        "# This Python 3 environment comes with many helpful analytics libraries installed\n",
        "# It is defined by the kaggle/python Docker image: https://github.com/kaggle/docker-python\n",
        "# For example, here's several helpful packages to load\n",
        "\n",
        "import numpy as np # linear algebra\n",
        "import pandas as pd # data processing, CSV file I/O (e.g. pd.read_csv)\n",
        "\n",
        "# Input data files are available in the read-only \"../input/\" directory\n",
        "# For example, running this (by clicking run or pressing Shift+Enter) will list all files under the input directory\n",
        "\n",
        "import os\n",
        "for dirname, _, filenames in os.walk('/kaggle/input'):\n",
        "    for filename in filenames:\n",
        "        print(os.path.join(dirname, filename))\n",
        "\n",
        "# You can write up to 20GB to the current directory (/kaggle/working/) that gets preserved as output when you create a version using \"Save & Run All\"\n",
        "# You can also write temporary files to /kaggle/temp/, but they won't be saved outside of the current session"
      ]
    },
    {
      "cell_type": "code",
      "execution_count": null,
      "metadata": {
        "execution": {
          "iopub.execute_input": "2024-12-06T06:24:18.714844Z",
          "iopub.status.busy": "2024-12-06T06:24:18.714562Z",
          "iopub.status.idle": "2024-12-06T06:24:18.743820Z",
          "shell.execute_reply": "2024-12-06T06:24:18.743020Z",
          "shell.execute_reply.started": "2024-12-06T06:24:18.714815Z"
        },
        "id": "LGsiu5ySZcuE",
        "outputId": "906d4ecb-6b20-4e97-d35d-8c190f4ea1a4"
      },
      "outputs": [
        {
          "name": "stdout",
          "output_type": "stream",
          "text": [
            "Train directory contents: ['dogs', 'cats']\n",
            "Test directory contents: ['dogs', 'cats']\n"
          ]
        }
      ],
      "source": [
        "import os\n",
        "\n",
        "# Check the structure of the 'train' folder\n",
        "train_dir = '/kaggle/input/catvsdog/test'\n",
        "print(\"Train directory contents:\", os.listdir(train_dir))\n",
        "\n",
        "# Check the structure of the 'test' folder\n",
        "test_dir = '/kaggle/input/catvsdog/train'\n",
        "print(\"Test directory contents:\", os.listdir(test_dir))\n"
      ]
    },
    {
      "cell_type": "code",
      "execution_count": null,
      "metadata": {
        "execution": {
          "iopub.execute_input": "2024-12-06T06:24:18.805341Z",
          "iopub.status.busy": "2024-12-06T06:24:18.804854Z",
          "iopub.status.idle": "2024-12-06T06:24:48.710077Z",
          "shell.execute_reply": "2024-12-06T06:24:48.709171Z",
          "shell.execute_reply.started": "2024-12-06T06:24:18.805295Z"
        },
        "id": "GGaN0Qu2ZcuG",
        "outputId": "5fc2ff51-b659-4e6d-ec9d-34b3af94450d"
      },
      "outputs": [
        {
          "name": "stdout",
          "output_type": "stream",
          "text": [
            "Train Image Counts: {'dogs': 10000, 'cats': 10000}\n",
            "Test Image Counts: {'dogs': 2500, 'cats': 2500}\n"
          ]
        }
      ],
      "source": [
        "import os\n",
        "\n",
        "# Paths to train and test directories\n",
        "train_dir = '/kaggle/input/catvsdog/train'\n",
        "test_dir = '/kaggle/input/catvsdog/test'\n",
        "\n",
        "def count_images_in_folder(folder_path):\n",
        "    # Dictionary to store counts for each subfolder\n",
        "    image_counts = {}\n",
        "    for subfolder in os.listdir(folder_path):\n",
        "        subfolder_path = os.path.join(folder_path, subfolder)\n",
        "        if os.path.isdir(subfolder_path):\n",
        "            # Count all files in the subfolder\n",
        "            image_counts[subfolder] = len([\n",
        "                f for f in os.listdir(subfolder_path)\n",
        "                if os.path.isfile(os.path.join(subfolder_path, f))\n",
        "            ])\n",
        "    return image_counts\n",
        "\n",
        "# Count images in train and test directories\n",
        "train_image_counts = count_images_in_folder(train_dir)\n",
        "test_image_counts = count_images_in_folder(test_dir)\n",
        "\n",
        "print(\"Train Image Counts:\", train_image_counts)\n",
        "print(\"Test Image Counts:\", test_image_counts)\n"
      ]
    },
    {
      "cell_type": "code",
      "execution_count": null,
      "metadata": {
        "execution": {
          "iopub.execute_input": "2024-12-06T06:24:48.711652Z",
          "iopub.status.busy": "2024-12-06T06:24:48.711393Z",
          "iopub.status.idle": "2024-12-06T06:24:59.428790Z",
          "shell.execute_reply": "2024-12-06T06:24:59.428063Z",
          "shell.execute_reply.started": "2024-12-06T06:24:48.711626Z"
        },
        "id": "gnD5ph80ZcuI"
      },
      "outputs": [],
      "source": [
        "import sys\n",
        "from matplotlib import pyplot as plt\n",
        "import tensorflow\n",
        "from tensorflow.keras.models import Sequential\n",
        "from tensorflow.keras.layers import Conv2D, MaxPooling2D, Flatten, Dense, Dropout\n",
        "from tensorflow.keras.optimizers import Adam\n",
        "from tensorflow.keras.preprocessing.image import ImageDataGenerator"
      ]
    },
    {
      "cell_type": "code",
      "execution_count": null,
      "metadata": {
        "execution": {
          "iopub.execute_input": "2024-12-06T06:24:59.430600Z",
          "iopub.status.busy": "2024-12-06T06:24:59.429974Z",
          "iopub.status.idle": "2024-12-06T06:24:59.437619Z",
          "shell.execute_reply": "2024-12-06T06:24:59.436833Z",
          "shell.execute_reply.started": "2024-12-06T06:24:59.430567Z"
        },
        "id": "OPTm1jYPZcuJ"
      },
      "outputs": [],
      "source": [
        "def define_model():\n",
        "    model = Sequential()\n",
        "    model.add(Conv2D(32, (3, 3), activation='relu', kernel_initializer='he_uniform',\n",
        "                     padding='same', input_shape=(200, 200, 3)))\n",
        "    model.add(MaxPooling2D((2, 2)))\n",
        "    model.add(Dropout(0.1))\n",
        "\n",
        "    model.add(Conv2D(64, (3, 3), activation='relu', kernel_initializer='he_uniform',\n",
        "                     padding='same'))\n",
        "    model.add(MaxPooling2D((2, 2)))\n",
        "    model.add(Dropout(0.1))\n",
        "\n",
        "    model.add(Conv2D(128, (3, 3), activation='relu', kernel_initializer='he_uniform',\n",
        "                     padding='same'))\n",
        "    model.add(MaxPooling2D((2, 2)))\n",
        "    model.add(Dropout(0.1))\n",
        "\n",
        "    model.add(Flatten())\n",
        "    model.add(Dense(128, activation='relu', kernel_initializer='he_uniform'))\n",
        "    model.add(Dropout(0.3))\n",
        "\n",
        "    model.add(Dense(1, activation='sigmoid'))\n",
        "\n",
        "    # Compile the model\n",
        "    opt = Adam(learning_rate=0.0001)\n",
        "    model.compile(optimizer=opt, loss='binary_crossentropy', metrics=['accuracy'])\n",
        "\n",
        "    return model"
      ]
    },
    {
      "cell_type": "code",
      "execution_count": null,
      "metadata": {
        "execution": {
          "iopub.execute_input": "2024-12-06T06:24:59.439396Z",
          "iopub.status.busy": "2024-12-06T06:24:59.439139Z",
          "iopub.status.idle": "2024-12-06T06:24:59.456778Z",
          "shell.execute_reply": "2024-12-06T06:24:59.456042Z",
          "shell.execute_reply.started": "2024-12-06T06:24:59.439371Z"
        },
        "id": "YxlN2yAfZcuK"
      },
      "outputs": [],
      "source": [
        "import pandas as pd\n",
        "import matplotlib.pyplot as plt\n",
        "\n",
        "def plot_from_csv(file_path):\n",
        "    # Read the CSV file\n",
        "    data = pd.read_csv(file_path)\n",
        "\n",
        "    # Check if required columns exist\n",
        "    required_columns = {\"Epoch\", \"Train Accuracy\", \"Val Accuracy\", \"Train Loss\", \"Val Loss\"}\n",
        "    if not required_columns.issubset(data.columns):\n",
        "        print(f\"CSV file must contain the columns: {required_columns}\")\n",
        "        return\n",
        "\n",
        "    # Plot accuracy\n",
        "    plt.figure(figsize=(12, 6))\n",
        "    plt.subplot(1, 2, 1)\n",
        "    plt.plot(data['Epoch'], data['Train Accuracy'], label='Train Accuracy', marker='o')\n",
        "    plt.plot(data['Epoch'], data['Val Accuracy'], label='Validation Accuracy', marker='o')\n",
        "    plt.title('Accuracy over Epochs')\n",
        "    plt.xlabel('Epoch')\n",
        "    plt.ylabel('Accuracy')\n",
        "    plt.legend()\n",
        "    plt.grid(True)\n",
        "\n",
        "    # Plot loss\n",
        "    plt.subplot(1, 2, 2)\n",
        "    plt.plot(data['Epoch'], data['Train Loss'], label='Train Loss', marker='o')\n",
        "    plt.plot(data['Epoch'], data['Val Loss'], label='Validation Loss', marker='o')\n",
        "    plt.title('Loss over Epochs')\n",
        "    plt.xlabel('Epoch')\n",
        "    plt.ylabel('Loss')\n",
        "    plt.legend()\n",
        "    plt.grid(True)\n",
        "\n",
        "    # Show plots\n",
        "    plt.tight_layout()\n",
        "    plt.show()"
      ]
    },
    {
      "cell_type": "code",
      "execution_count": null,
      "metadata": {
        "execution": {
          "iopub.execute_input": "2024-12-06T06:24:59.457878Z",
          "iopub.status.busy": "2024-12-06T06:24:59.457596Z",
          "iopub.status.idle": "2024-12-06T06:24:59.468430Z",
          "shell.execute_reply": "2024-12-06T06:24:59.467726Z",
          "shell.execute_reply.started": "2024-12-06T06:24:59.457853Z"
        },
        "id": "3zWXnalhZcuL"
      },
      "outputs": [],
      "source": [
        "import numpy as np\n",
        "import pandas as pd\n",
        "\n",
        "\n",
        "# Define the test harness\n",
        "def run_test_harness():\n",
        "    model = define_model()\n",
        "\n",
        "    # Data augmentation configuration\n",
        "    datagen = ImageDataGenerator(\n",
        "        rescale=1.0 / 255.0,\n",
        "        rotation_range=20,\n",
        "        width_shift_range=0.2,\n",
        "        height_shift_range=0.2,\n",
        "        shear_range=0.15,\n",
        "        zoom_range=0.15,\n",
        "        horizontal_flip=True,\n",
        "        fill_mode='nearest'\n",
        "    )\n",
        "\n",
        "    # Prepare iterators for training and testing datasets\n",
        "    train_it = datagen.flow_from_directory(\n",
        "        '/kaggle/input/catvsdog/train/',\n",
        "        batch_size=32,\n",
        "        target_size=(200, 200),\n",
        "        class_mode='binary'\n",
        "    )\n",
        "\n",
        "    # For testing, no augmentation is applied, only rescaling\n",
        "    test_datagen = ImageDataGenerator(rescale=1.0 / 255.0)\n",
        "    test_it = test_datagen.flow_from_directory(\n",
        "        '/kaggle/input/catvsdog/test/',\n",
        "        batch_size=32,\n",
        "        target_size=(200, 200),\n",
        "        class_mode='binary'\n",
        "    )\n",
        "\n",
        "    # Store accuracy and loss values\n",
        "    train_acc = []\n",
        "    val_acc = []\n",
        "    train_loss = []\n",
        "    val_loss = []\n",
        "\n",
        "    # Fit the model with correct steps_per_epoch and validation_steps\n",
        "    history = model.fit(\n",
        "        train_it,\n",
        "        validation_data=test_it,\n",
        "        epochs=50,\n",
        "    )\n",
        "\n",
        "    # Extract accuracy and loss values for each epoch\n",
        "    for epoch in range(50):  # Assuming 40 epochs\n",
        "        train_acc.append(history.history['accuracy'][epoch])\n",
        "        val_acc.append(history.history['val_accuracy'][epoch])\n",
        "        train_loss.append(history.history['loss'][epoch])\n",
        "        val_loss.append(history.history['val_loss'][epoch])\n",
        "\n",
        "    # Save the values in a DataFrame or CSV\n",
        "    data = {\n",
        "        'Epoch': np.arange(1, 51),\n",
        "        'Train Accuracy': train_acc,\n",
        "        'Val Accuracy': val_acc,\n",
        "        'Train Loss': train_loss,\n",
        "        'Val Loss': val_loss\n",
        "    }\n",
        "\n",
        "    df = pd.DataFrame(data)\n",
        "    df.to_csv('training_history.csv', index=False)  # Save to CSV in the Colab directory\n",
        "\n",
        "    print(df)\n"
      ]
    },
    {
      "cell_type": "code",
      "execution_count": null,
      "metadata": {
        "execution": {
          "iopub.execute_input": "2024-12-06T06:25:40.154400Z",
          "iopub.status.busy": "2024-12-06T06:25:40.153770Z",
          "iopub.status.idle": "2024-12-06T07:01:56.855379Z",
          "shell.execute_reply": "2024-12-06T07:01:56.853961Z",
          "shell.execute_reply.started": "2024-12-06T06:25:40.154366Z"
        },
        "id": "Yj3ca2BQZcuM",
        "outputId": "1b49e675-d943-4c8f-dbcb-807e0ee56ed0"
      },
      "outputs": [
        {
          "name": "stderr",
          "output_type": "stream",
          "text": [
            "/opt/conda/lib/python3.10/site-packages/keras/src/layers/convolutional/base_conv.py:107: UserWarning: Do not pass an `input_shape`/`input_dim` argument to a layer. When using Sequential models, prefer using an `Input(shape)` object as the first layer in the model instead.\n",
            "  super().__init__(activity_regularizer=activity_regularizer, **kwargs)\n"
          ]
        },
        {
          "name": "stdout",
          "output_type": "stream",
          "text": [
            "Found 20000 images belonging to 2 classes.\n",
            "Found 5000 images belonging to 2 classes.\n",
            "Epoch 1/50\n"
          ]
        },
        {
          "name": "stderr",
          "output_type": "stream",
          "text": [
            "/opt/conda/lib/python3.10/site-packages/keras/src/trainers/data_adapters/py_dataset_adapter.py:121: UserWarning: Your `PyDataset` class should call `super().__init__(**kwargs)` in its constructor. `**kwargs` can include `workers`, `use_multiprocessing`, `max_queue_size`. Do not pass these arguments to `fit()`, as they will be ignored.\n",
            "  self._warn_if_super_not_called()\n",
            "WARNING: All log messages before absl::InitializeLog() is called are written to STDERR\n",
            "I0000 00:00:1733466353.067656      92 service.cc:145] XLA service 0x7f21b8004ce0 initialized for platform CUDA (this does not guarantee that XLA will be used). Devices:\n",
            "I0000 00:00:1733466353.067750      92 service.cc:153]   StreamExecutor device (0): Tesla T4, Compute Capability 7.5\n",
            "I0000 00:00:1733466353.067757      92 service.cc:153]   StreamExecutor device (1): Tesla T4, Compute Capability 7.5\n"
          ]
        },
        {
          "name": "stdout",
          "output_type": "stream",
          "text": [
            "\u001b[1m  2/625\u001b[0m \u001b[37m━━━━━━━━━━━━━━━━━━━━\u001b[0m \u001b[1m35s\u001b[0m 57ms/step - accuracy: 0.4922 - loss: 4.1562   "
          ]
        },
        {
          "name": "stderr",
          "output_type": "stream",
          "text": [
            "I0000 00:00:1733466362.903811      92 device_compiler.h:188] Compiled cluster using XLA!  This line is logged at most once for the lifetime of the process.\n"
          ]
        },
        {
          "name": "stdout",
          "output_type": "stream",
          "text": [
            "\u001b[1m625/625\u001b[0m \u001b[32m━━━━━━━━━━━━━━━━━━━━\u001b[0m\u001b[37m\u001b[0m \u001b[1m272s\u001b[0m 413ms/step - accuracy: 0.4951 - loss: 0.9173 - val_accuracy: 0.5006 - val_loss: 0.6931\n",
            "Epoch 2/50\n",
            "\u001b[1m625/625\u001b[0m \u001b[32m━━━━━━━━━━━━━━━━━━━━\u001b[0m\u001b[37m\u001b[0m \u001b[1m197s\u001b[0m 311ms/step - accuracy: 0.5034 - loss: 0.6932 - val_accuracy: 0.5000 - val_loss: 0.6931\n",
            "Epoch 3/50\n",
            "\u001b[1m625/625\u001b[0m \u001b[32m━━━━━━━━━━━━━━━━━━━━\u001b[0m\u001b[37m\u001b[0m \u001b[1m195s\u001b[0m 309ms/step - accuracy: 0.5003 - loss: 0.6932 - val_accuracy: 0.5000 - val_loss: 0.6931\n",
            "Epoch 4/50\n",
            "\u001b[1m625/625\u001b[0m \u001b[32m━━━━━━━━━━━━━━━━━━━━\u001b[0m\u001b[37m\u001b[0m \u001b[1m196s\u001b[0m 311ms/step - accuracy: 0.4929 - loss: 0.6931 - val_accuracy: 0.5000 - val_loss: 0.6931\n",
            "Epoch 5/50\n",
            "\u001b[1m625/625\u001b[0m \u001b[32m━━━━━━━━━━━━━━━━━━━━\u001b[0m\u001b[37m\u001b[0m \u001b[1m201s\u001b[0m 318ms/step - accuracy: 0.4916 - loss: 0.6932 - val_accuracy: 0.5000 - val_loss: 0.6931\n",
            "Epoch 6/50\n",
            "\u001b[1m625/625\u001b[0m \u001b[32m━━━━━━━━━━━━━━━━━━━━\u001b[0m\u001b[37m\u001b[0m \u001b[1m197s\u001b[0m 312ms/step - accuracy: 0.4993 - loss: 0.6932 - val_accuracy: 0.5000 - val_loss: 0.6931\n",
            "Epoch 7/50\n",
            "\u001b[1m625/625\u001b[0m \u001b[32m━━━━━━━━━━━━━━━━━━━━\u001b[0m\u001b[37m\u001b[0m \u001b[1m196s\u001b[0m 310ms/step - accuracy: 0.4953 - loss: 0.6932 - val_accuracy: 0.5000 - val_loss: 0.6931\n",
            "Epoch 8/50\n",
            "\u001b[1m625/625\u001b[0m \u001b[32m━━━━━━━━━━━━━━━━━━━━\u001b[0m\u001b[37m\u001b[0m \u001b[1m200s\u001b[0m 317ms/step - accuracy: 0.4922 - loss: 0.6931 - val_accuracy: 0.5000 - val_loss: 0.6931\n",
            "Epoch 9/50\n",
            "\u001b[1m625/625\u001b[0m \u001b[32m━━━━━━━━━━━━━━━━━━━━\u001b[0m\u001b[37m\u001b[0m \u001b[1m269s\u001b[0m 427ms/step - accuracy: 0.4900 - loss: 0.6932 - val_accuracy: 0.5000 - val_loss: 0.6931\n",
            "Epoch 10/50\n",
            "\u001b[1m465/625\u001b[0m \u001b[32m━━━━━━━━━━━━━━\u001b[0m\u001b[37m━━━━━━\u001b[0m \u001b[1m1:22\u001b[0m 515ms/step - accuracy: 0.4987 - loss: 0.6931"
          ]
        },
        {
          "ename": "KeyboardInterrupt",
          "evalue": "",
          "output_type": "error",
          "traceback": [
            "\u001b[0;31m---------------------------------------------------------------------------\u001b[0m",
            "\u001b[0;31mKeyboardInterrupt\u001b[0m                         Traceback (most recent call last)",
            "Cell \u001b[0;32mIn[7], line 1\u001b[0m\n\u001b[0;32m----> 1\u001b[0m \u001b[43mrun_test_harness\u001b[49m\u001b[43m(\u001b[49m\u001b[43m)\u001b[49m\n",
            "Cell \u001b[0;32mIn[6], line 45\u001b[0m, in \u001b[0;36mrun_test_harness\u001b[0;34m()\u001b[0m\n\u001b[1;32m     42\u001b[0m val_loss \u001b[38;5;241m=\u001b[39m []\n\u001b[1;32m     44\u001b[0m \u001b[38;5;66;03m# Fit the model with correct steps_per_epoch and validation_steps\u001b[39;00m\n\u001b[0;32m---> 45\u001b[0m history \u001b[38;5;241m=\u001b[39m \u001b[43mmodel\u001b[49m\u001b[38;5;241;43m.\u001b[39;49m\u001b[43mfit\u001b[49m\u001b[43m(\u001b[49m\n\u001b[1;32m     46\u001b[0m \u001b[43m    \u001b[49m\u001b[43mtrain_it\u001b[49m\u001b[43m,\u001b[49m\n\u001b[1;32m     47\u001b[0m \u001b[43m    \u001b[49m\u001b[43mvalidation_data\u001b[49m\u001b[38;5;241;43m=\u001b[39;49m\u001b[43mtest_it\u001b[49m\u001b[43m,\u001b[49m\n\u001b[1;32m     48\u001b[0m \u001b[43m    \u001b[49m\u001b[43mepochs\u001b[49m\u001b[38;5;241;43m=\u001b[39;49m\u001b[38;5;241;43m50\u001b[39;49m\u001b[43m,\u001b[49m\n\u001b[1;32m     49\u001b[0m \u001b[43m\u001b[49m\u001b[43m)\u001b[49m\n\u001b[1;32m     51\u001b[0m \u001b[38;5;66;03m# Extract accuracy and loss values for each epoch\u001b[39;00m\n\u001b[1;32m     52\u001b[0m \u001b[38;5;28;01mfor\u001b[39;00m epoch \u001b[38;5;129;01min\u001b[39;00m \u001b[38;5;28mrange\u001b[39m(\u001b[38;5;241m50\u001b[39m):  \u001b[38;5;66;03m# Assuming 40 epochs\u001b[39;00m\n",
            "File \u001b[0;32m/opt/conda/lib/python3.10/site-packages/keras/src/utils/traceback_utils.py:117\u001b[0m, in \u001b[0;36mfilter_traceback.<locals>.error_handler\u001b[0;34m(*args, **kwargs)\u001b[0m\n\u001b[1;32m    115\u001b[0m filtered_tb \u001b[38;5;241m=\u001b[39m \u001b[38;5;28;01mNone\u001b[39;00m\n\u001b[1;32m    116\u001b[0m \u001b[38;5;28;01mtry\u001b[39;00m:\n\u001b[0;32m--> 117\u001b[0m     \u001b[38;5;28;01mreturn\u001b[39;00m \u001b[43mfn\u001b[49m\u001b[43m(\u001b[49m\u001b[38;5;241;43m*\u001b[39;49m\u001b[43margs\u001b[49m\u001b[43m,\u001b[49m\u001b[43m \u001b[49m\u001b[38;5;241;43m*\u001b[39;49m\u001b[38;5;241;43m*\u001b[39;49m\u001b[43mkwargs\u001b[49m\u001b[43m)\u001b[49m\n\u001b[1;32m    118\u001b[0m \u001b[38;5;28;01mexcept\u001b[39;00m \u001b[38;5;167;01mException\u001b[39;00m \u001b[38;5;28;01mas\u001b[39;00m e:\n\u001b[1;32m    119\u001b[0m     filtered_tb \u001b[38;5;241m=\u001b[39m _process_traceback_frames(e\u001b[38;5;241m.\u001b[39m__traceback__)\n",
            "File \u001b[0;32m/opt/conda/lib/python3.10/site-packages/keras/src/backend/tensorflow/trainer.py:314\u001b[0m, in \u001b[0;36mTensorFlowTrainer.fit\u001b[0;34m(self, x, y, batch_size, epochs, verbose, callbacks, validation_split, validation_data, shuffle, class_weight, sample_weight, initial_epoch, steps_per_epoch, validation_steps, validation_batch_size, validation_freq)\u001b[0m\n\u001b[1;32m    312\u001b[0m \u001b[38;5;28;01mfor\u001b[39;00m step, iterator \u001b[38;5;129;01min\u001b[39;00m epoch_iterator\u001b[38;5;241m.\u001b[39menumerate_epoch():\n\u001b[1;32m    313\u001b[0m     callbacks\u001b[38;5;241m.\u001b[39mon_train_batch_begin(step)\n\u001b[0;32m--> 314\u001b[0m     logs \u001b[38;5;241m=\u001b[39m \u001b[38;5;28;43mself\u001b[39;49m\u001b[38;5;241;43m.\u001b[39;49m\u001b[43mtrain_function\u001b[49m\u001b[43m(\u001b[49m\u001b[43miterator\u001b[49m\u001b[43m)\u001b[49m\n\u001b[1;32m    315\u001b[0m     logs \u001b[38;5;241m=\u001b[39m \u001b[38;5;28mself\u001b[39m\u001b[38;5;241m.\u001b[39m_pythonify_logs(logs)\n\u001b[1;32m    316\u001b[0m     callbacks\u001b[38;5;241m.\u001b[39mon_train_batch_end(step, logs)\n",
            "File \u001b[0;32m/opt/conda/lib/python3.10/site-packages/tensorflow/python/util/traceback_utils.py:150\u001b[0m, in \u001b[0;36mfilter_traceback.<locals>.error_handler\u001b[0;34m(*args, **kwargs)\u001b[0m\n\u001b[1;32m    148\u001b[0m filtered_tb \u001b[38;5;241m=\u001b[39m \u001b[38;5;28;01mNone\u001b[39;00m\n\u001b[1;32m    149\u001b[0m \u001b[38;5;28;01mtry\u001b[39;00m:\n\u001b[0;32m--> 150\u001b[0m   \u001b[38;5;28;01mreturn\u001b[39;00m \u001b[43mfn\u001b[49m\u001b[43m(\u001b[49m\u001b[38;5;241;43m*\u001b[39;49m\u001b[43margs\u001b[49m\u001b[43m,\u001b[49m\u001b[43m \u001b[49m\u001b[38;5;241;43m*\u001b[39;49m\u001b[38;5;241;43m*\u001b[39;49m\u001b[43mkwargs\u001b[49m\u001b[43m)\u001b[49m\n\u001b[1;32m    151\u001b[0m \u001b[38;5;28;01mexcept\u001b[39;00m \u001b[38;5;167;01mException\u001b[39;00m \u001b[38;5;28;01mas\u001b[39;00m e:\n\u001b[1;32m    152\u001b[0m   filtered_tb \u001b[38;5;241m=\u001b[39m _process_traceback_frames(e\u001b[38;5;241m.\u001b[39m__traceback__)\n",
            "File \u001b[0;32m/opt/conda/lib/python3.10/site-packages/tensorflow/python/eager/polymorphic_function/polymorphic_function.py:833\u001b[0m, in \u001b[0;36mFunction.__call__\u001b[0;34m(self, *args, **kwds)\u001b[0m\n\u001b[1;32m    830\u001b[0m compiler \u001b[38;5;241m=\u001b[39m \u001b[38;5;124m\"\u001b[39m\u001b[38;5;124mxla\u001b[39m\u001b[38;5;124m\"\u001b[39m \u001b[38;5;28;01mif\u001b[39;00m \u001b[38;5;28mself\u001b[39m\u001b[38;5;241m.\u001b[39m_jit_compile \u001b[38;5;28;01melse\u001b[39;00m \u001b[38;5;124m\"\u001b[39m\u001b[38;5;124mnonXla\u001b[39m\u001b[38;5;124m\"\u001b[39m\n\u001b[1;32m    832\u001b[0m \u001b[38;5;28;01mwith\u001b[39;00m OptionalXlaContext(\u001b[38;5;28mself\u001b[39m\u001b[38;5;241m.\u001b[39m_jit_compile):\n\u001b[0;32m--> 833\u001b[0m   result \u001b[38;5;241m=\u001b[39m \u001b[38;5;28;43mself\u001b[39;49m\u001b[38;5;241;43m.\u001b[39;49m\u001b[43m_call\u001b[49m\u001b[43m(\u001b[49m\u001b[38;5;241;43m*\u001b[39;49m\u001b[43margs\u001b[49m\u001b[43m,\u001b[49m\u001b[43m \u001b[49m\u001b[38;5;241;43m*\u001b[39;49m\u001b[38;5;241;43m*\u001b[39;49m\u001b[43mkwds\u001b[49m\u001b[43m)\u001b[49m\n\u001b[1;32m    835\u001b[0m new_tracing_count \u001b[38;5;241m=\u001b[39m \u001b[38;5;28mself\u001b[39m\u001b[38;5;241m.\u001b[39mexperimental_get_tracing_count()\n\u001b[1;32m    836\u001b[0m without_tracing \u001b[38;5;241m=\u001b[39m (tracing_count \u001b[38;5;241m==\u001b[39m new_tracing_count)\n",
            "File \u001b[0;32m/opt/conda/lib/python3.10/site-packages/tensorflow/python/eager/polymorphic_function/polymorphic_function.py:878\u001b[0m, in \u001b[0;36mFunction._call\u001b[0;34m(self, *args, **kwds)\u001b[0m\n\u001b[1;32m    875\u001b[0m \u001b[38;5;28mself\u001b[39m\u001b[38;5;241m.\u001b[39m_lock\u001b[38;5;241m.\u001b[39mrelease()\n\u001b[1;32m    876\u001b[0m \u001b[38;5;66;03m# In this case we have not created variables on the first call. So we can\u001b[39;00m\n\u001b[1;32m    877\u001b[0m \u001b[38;5;66;03m# run the first trace but we should fail if variables are created.\u001b[39;00m\n\u001b[0;32m--> 878\u001b[0m results \u001b[38;5;241m=\u001b[39m \u001b[43mtracing_compilation\u001b[49m\u001b[38;5;241;43m.\u001b[39;49m\u001b[43mcall_function\u001b[49m\u001b[43m(\u001b[49m\n\u001b[1;32m    879\u001b[0m \u001b[43m    \u001b[49m\u001b[43margs\u001b[49m\u001b[43m,\u001b[49m\u001b[43m \u001b[49m\u001b[43mkwds\u001b[49m\u001b[43m,\u001b[49m\u001b[43m \u001b[49m\u001b[38;5;28;43mself\u001b[39;49m\u001b[38;5;241;43m.\u001b[39;49m\u001b[43m_variable_creation_config\u001b[49m\n\u001b[1;32m    880\u001b[0m \u001b[43m\u001b[49m\u001b[43m)\u001b[49m\n\u001b[1;32m    881\u001b[0m \u001b[38;5;28;01mif\u001b[39;00m \u001b[38;5;28mself\u001b[39m\u001b[38;5;241m.\u001b[39m_created_variables:\n\u001b[1;32m    882\u001b[0m   \u001b[38;5;28;01mraise\u001b[39;00m \u001b[38;5;167;01mValueError\u001b[39;00m(\u001b[38;5;124m\"\u001b[39m\u001b[38;5;124mCreating variables on a non-first call to a function\u001b[39m\u001b[38;5;124m\"\u001b[39m\n\u001b[1;32m    883\u001b[0m                    \u001b[38;5;124m\"\u001b[39m\u001b[38;5;124m decorated with tf.function.\u001b[39m\u001b[38;5;124m\"\u001b[39m)\n",
            "File \u001b[0;32m/opt/conda/lib/python3.10/site-packages/tensorflow/python/eager/polymorphic_function/tracing_compilation.py:139\u001b[0m, in \u001b[0;36mcall_function\u001b[0;34m(args, kwargs, tracing_options)\u001b[0m\n\u001b[1;32m    137\u001b[0m bound_args \u001b[38;5;241m=\u001b[39m function\u001b[38;5;241m.\u001b[39mfunction_type\u001b[38;5;241m.\u001b[39mbind(\u001b[38;5;241m*\u001b[39margs, \u001b[38;5;241m*\u001b[39m\u001b[38;5;241m*\u001b[39mkwargs)\n\u001b[1;32m    138\u001b[0m flat_inputs \u001b[38;5;241m=\u001b[39m function\u001b[38;5;241m.\u001b[39mfunction_type\u001b[38;5;241m.\u001b[39munpack_inputs(bound_args)\n\u001b[0;32m--> 139\u001b[0m \u001b[38;5;28;01mreturn\u001b[39;00m \u001b[43mfunction\u001b[49m\u001b[38;5;241;43m.\u001b[39;49m\u001b[43m_call_flat\u001b[49m\u001b[43m(\u001b[49m\u001b[43m  \u001b[49m\u001b[38;5;66;43;03m# pylint: disable=protected-access\u001b[39;49;00m\n\u001b[1;32m    140\u001b[0m \u001b[43m    \u001b[49m\u001b[43mflat_inputs\u001b[49m\u001b[43m,\u001b[49m\u001b[43m \u001b[49m\u001b[43mcaptured_inputs\u001b[49m\u001b[38;5;241;43m=\u001b[39;49m\u001b[43mfunction\u001b[49m\u001b[38;5;241;43m.\u001b[39;49m\u001b[43mcaptured_inputs\u001b[49m\n\u001b[1;32m    141\u001b[0m \u001b[43m\u001b[49m\u001b[43m)\u001b[49m\n",
            "File \u001b[0;32m/opt/conda/lib/python3.10/site-packages/tensorflow/python/eager/polymorphic_function/concrete_function.py:1322\u001b[0m, in \u001b[0;36mConcreteFunction._call_flat\u001b[0;34m(self, tensor_inputs, captured_inputs)\u001b[0m\n\u001b[1;32m   1318\u001b[0m possible_gradient_type \u001b[38;5;241m=\u001b[39m gradients_util\u001b[38;5;241m.\u001b[39mPossibleTapeGradientTypes(args)\n\u001b[1;32m   1319\u001b[0m \u001b[38;5;28;01mif\u001b[39;00m (possible_gradient_type \u001b[38;5;241m==\u001b[39m gradients_util\u001b[38;5;241m.\u001b[39mPOSSIBLE_GRADIENT_TYPES_NONE\n\u001b[1;32m   1320\u001b[0m     \u001b[38;5;129;01mand\u001b[39;00m executing_eagerly):\n\u001b[1;32m   1321\u001b[0m   \u001b[38;5;66;03m# No tape is watching; skip to running the function.\u001b[39;00m\n\u001b[0;32m-> 1322\u001b[0m   \u001b[38;5;28;01mreturn\u001b[39;00m \u001b[38;5;28;43mself\u001b[39;49m\u001b[38;5;241;43m.\u001b[39;49m\u001b[43m_inference_function\u001b[49m\u001b[38;5;241;43m.\u001b[39;49m\u001b[43mcall_preflattened\u001b[49m\u001b[43m(\u001b[49m\u001b[43margs\u001b[49m\u001b[43m)\u001b[49m\n\u001b[1;32m   1323\u001b[0m forward_backward \u001b[38;5;241m=\u001b[39m \u001b[38;5;28mself\u001b[39m\u001b[38;5;241m.\u001b[39m_select_forward_and_backward_functions(\n\u001b[1;32m   1324\u001b[0m     args,\n\u001b[1;32m   1325\u001b[0m     possible_gradient_type,\n\u001b[1;32m   1326\u001b[0m     executing_eagerly)\n\u001b[1;32m   1327\u001b[0m forward_function, args_with_tangents \u001b[38;5;241m=\u001b[39m forward_backward\u001b[38;5;241m.\u001b[39mforward()\n",
            "File \u001b[0;32m/opt/conda/lib/python3.10/site-packages/tensorflow/python/eager/polymorphic_function/atomic_function.py:216\u001b[0m, in \u001b[0;36mAtomicFunction.call_preflattened\u001b[0;34m(self, args)\u001b[0m\n\u001b[1;32m    214\u001b[0m \u001b[38;5;28;01mdef\u001b[39;00m \u001b[38;5;21mcall_preflattened\u001b[39m(\u001b[38;5;28mself\u001b[39m, args: Sequence[core\u001b[38;5;241m.\u001b[39mTensor]) \u001b[38;5;241m-\u001b[39m\u001b[38;5;241m>\u001b[39m Any:\n\u001b[1;32m    215\u001b[0m \u001b[38;5;250m  \u001b[39m\u001b[38;5;124;03m\"\"\"Calls with flattened tensor inputs and returns the structured output.\"\"\"\u001b[39;00m\n\u001b[0;32m--> 216\u001b[0m   flat_outputs \u001b[38;5;241m=\u001b[39m \u001b[38;5;28;43mself\u001b[39;49m\u001b[38;5;241;43m.\u001b[39;49m\u001b[43mcall_flat\u001b[49m\u001b[43m(\u001b[49m\u001b[38;5;241;43m*\u001b[39;49m\u001b[43margs\u001b[49m\u001b[43m)\u001b[49m\n\u001b[1;32m    217\u001b[0m   \u001b[38;5;28;01mreturn\u001b[39;00m \u001b[38;5;28mself\u001b[39m\u001b[38;5;241m.\u001b[39mfunction_type\u001b[38;5;241m.\u001b[39mpack_output(flat_outputs)\n",
            "File \u001b[0;32m/opt/conda/lib/python3.10/site-packages/tensorflow/python/eager/polymorphic_function/atomic_function.py:251\u001b[0m, in \u001b[0;36mAtomicFunction.call_flat\u001b[0;34m(self, *args)\u001b[0m\n\u001b[1;32m    249\u001b[0m \u001b[38;5;28;01mwith\u001b[39;00m record\u001b[38;5;241m.\u001b[39mstop_recording():\n\u001b[1;32m    250\u001b[0m   \u001b[38;5;28;01mif\u001b[39;00m \u001b[38;5;28mself\u001b[39m\u001b[38;5;241m.\u001b[39m_bound_context\u001b[38;5;241m.\u001b[39mexecuting_eagerly():\n\u001b[0;32m--> 251\u001b[0m     outputs \u001b[38;5;241m=\u001b[39m \u001b[38;5;28;43mself\u001b[39;49m\u001b[38;5;241;43m.\u001b[39;49m\u001b[43m_bound_context\u001b[49m\u001b[38;5;241;43m.\u001b[39;49m\u001b[43mcall_function\u001b[49m\u001b[43m(\u001b[49m\n\u001b[1;32m    252\u001b[0m \u001b[43m        \u001b[49m\u001b[38;5;28;43mself\u001b[39;49m\u001b[38;5;241;43m.\u001b[39;49m\u001b[43mname\u001b[49m\u001b[43m,\u001b[49m\n\u001b[1;32m    253\u001b[0m \u001b[43m        \u001b[49m\u001b[38;5;28;43mlist\u001b[39;49m\u001b[43m(\u001b[49m\u001b[43margs\u001b[49m\u001b[43m)\u001b[49m\u001b[43m,\u001b[49m\n\u001b[1;32m    254\u001b[0m \u001b[43m        \u001b[49m\u001b[38;5;28;43mlen\u001b[39;49m\u001b[43m(\u001b[49m\u001b[38;5;28;43mself\u001b[39;49m\u001b[38;5;241;43m.\u001b[39;49m\u001b[43mfunction_type\u001b[49m\u001b[38;5;241;43m.\u001b[39;49m\u001b[43mflat_outputs\u001b[49m\u001b[43m)\u001b[49m\u001b[43m,\u001b[49m\n\u001b[1;32m    255\u001b[0m \u001b[43m    \u001b[49m\u001b[43m)\u001b[49m\n\u001b[1;32m    256\u001b[0m   \u001b[38;5;28;01melse\u001b[39;00m:\n\u001b[1;32m    257\u001b[0m     outputs \u001b[38;5;241m=\u001b[39m make_call_op_in_graph(\n\u001b[1;32m    258\u001b[0m         \u001b[38;5;28mself\u001b[39m,\n\u001b[1;32m    259\u001b[0m         \u001b[38;5;28mlist\u001b[39m(args),\n\u001b[1;32m    260\u001b[0m         \u001b[38;5;28mself\u001b[39m\u001b[38;5;241m.\u001b[39m_bound_context\u001b[38;5;241m.\u001b[39mfunction_call_options\u001b[38;5;241m.\u001b[39mas_attrs(),\n\u001b[1;32m    261\u001b[0m     )\n",
            "File \u001b[0;32m/opt/conda/lib/python3.10/site-packages/tensorflow/python/eager/context.py:1500\u001b[0m, in \u001b[0;36mContext.call_function\u001b[0;34m(self, name, tensor_inputs, num_outputs)\u001b[0m\n\u001b[1;32m   1498\u001b[0m cancellation_context \u001b[38;5;241m=\u001b[39m cancellation\u001b[38;5;241m.\u001b[39mcontext()\n\u001b[1;32m   1499\u001b[0m \u001b[38;5;28;01mif\u001b[39;00m cancellation_context \u001b[38;5;129;01mis\u001b[39;00m \u001b[38;5;28;01mNone\u001b[39;00m:\n\u001b[0;32m-> 1500\u001b[0m   outputs \u001b[38;5;241m=\u001b[39m \u001b[43mexecute\u001b[49m\u001b[38;5;241;43m.\u001b[39;49m\u001b[43mexecute\u001b[49m\u001b[43m(\u001b[49m\n\u001b[1;32m   1501\u001b[0m \u001b[43m      \u001b[49m\u001b[43mname\u001b[49m\u001b[38;5;241;43m.\u001b[39;49m\u001b[43mdecode\u001b[49m\u001b[43m(\u001b[49m\u001b[38;5;124;43m\"\u001b[39;49m\u001b[38;5;124;43mutf-8\u001b[39;49m\u001b[38;5;124;43m\"\u001b[39;49m\u001b[43m)\u001b[49m\u001b[43m,\u001b[49m\n\u001b[1;32m   1502\u001b[0m \u001b[43m      \u001b[49m\u001b[43mnum_outputs\u001b[49m\u001b[38;5;241;43m=\u001b[39;49m\u001b[43mnum_outputs\u001b[49m\u001b[43m,\u001b[49m\n\u001b[1;32m   1503\u001b[0m \u001b[43m      \u001b[49m\u001b[43minputs\u001b[49m\u001b[38;5;241;43m=\u001b[39;49m\u001b[43mtensor_inputs\u001b[49m\u001b[43m,\u001b[49m\n\u001b[1;32m   1504\u001b[0m \u001b[43m      \u001b[49m\u001b[43mattrs\u001b[49m\u001b[38;5;241;43m=\u001b[39;49m\u001b[43mattrs\u001b[49m\u001b[43m,\u001b[49m\n\u001b[1;32m   1505\u001b[0m \u001b[43m      \u001b[49m\u001b[43mctx\u001b[49m\u001b[38;5;241;43m=\u001b[39;49m\u001b[38;5;28;43mself\u001b[39;49m\u001b[43m,\u001b[49m\n\u001b[1;32m   1506\u001b[0m \u001b[43m  \u001b[49m\u001b[43m)\u001b[49m\n\u001b[1;32m   1507\u001b[0m \u001b[38;5;28;01melse\u001b[39;00m:\n\u001b[1;32m   1508\u001b[0m   outputs \u001b[38;5;241m=\u001b[39m execute\u001b[38;5;241m.\u001b[39mexecute_with_cancellation(\n\u001b[1;32m   1509\u001b[0m       name\u001b[38;5;241m.\u001b[39mdecode(\u001b[38;5;124m\"\u001b[39m\u001b[38;5;124mutf-8\u001b[39m\u001b[38;5;124m\"\u001b[39m),\n\u001b[1;32m   1510\u001b[0m       num_outputs\u001b[38;5;241m=\u001b[39mnum_outputs,\n\u001b[0;32m   (...)\u001b[0m\n\u001b[1;32m   1514\u001b[0m       cancellation_manager\u001b[38;5;241m=\u001b[39mcancellation_context,\n\u001b[1;32m   1515\u001b[0m   )\n",
            "File \u001b[0;32m/opt/conda/lib/python3.10/site-packages/tensorflow/python/eager/execute.py:53\u001b[0m, in \u001b[0;36mquick_execute\u001b[0;34m(op_name, num_outputs, inputs, attrs, ctx, name)\u001b[0m\n\u001b[1;32m     51\u001b[0m \u001b[38;5;28;01mtry\u001b[39;00m:\n\u001b[1;32m     52\u001b[0m   ctx\u001b[38;5;241m.\u001b[39mensure_initialized()\n\u001b[0;32m---> 53\u001b[0m   tensors \u001b[38;5;241m=\u001b[39m \u001b[43mpywrap_tfe\u001b[49m\u001b[38;5;241;43m.\u001b[39;49m\u001b[43mTFE_Py_Execute\u001b[49m\u001b[43m(\u001b[49m\u001b[43mctx\u001b[49m\u001b[38;5;241;43m.\u001b[39;49m\u001b[43m_handle\u001b[49m\u001b[43m,\u001b[49m\u001b[43m \u001b[49m\u001b[43mdevice_name\u001b[49m\u001b[43m,\u001b[49m\u001b[43m \u001b[49m\u001b[43mop_name\u001b[49m\u001b[43m,\u001b[49m\n\u001b[1;32m     54\u001b[0m \u001b[43m                                      \u001b[49m\u001b[43minputs\u001b[49m\u001b[43m,\u001b[49m\u001b[43m \u001b[49m\u001b[43mattrs\u001b[49m\u001b[43m,\u001b[49m\u001b[43m \u001b[49m\u001b[43mnum_outputs\u001b[49m\u001b[43m)\u001b[49m\n\u001b[1;32m     55\u001b[0m \u001b[38;5;28;01mexcept\u001b[39;00m core\u001b[38;5;241m.\u001b[39m_NotOkStatusException \u001b[38;5;28;01mas\u001b[39;00m e:\n\u001b[1;32m     56\u001b[0m   \u001b[38;5;28;01mif\u001b[39;00m name \u001b[38;5;129;01mis\u001b[39;00m \u001b[38;5;129;01mnot\u001b[39;00m \u001b[38;5;28;01mNone\u001b[39;00m:\n",
            "\u001b[0;31mKeyboardInterrupt\u001b[0m: "
          ]
        }
      ],
      "source": [
        "run_test_harness()"
      ]
    },
    {
      "cell_type": "code",
      "execution_count": null,
      "metadata": {
        "execution": {
          "iopub.execute_input": "2024-12-06T07:02:08.611232Z",
          "iopub.status.busy": "2024-12-06T07:02:08.610878Z",
          "iopub.status.idle": "2024-12-06T07:02:08.619780Z",
          "shell.execute_reply": "2024-12-06T07:02:08.618859Z",
          "shell.execute_reply.started": "2024-12-06T07:02:08.611200Z"
        },
        "id": "3w-5fUfNZcuN"
      },
      "outputs": [],
      "source": [
        "import numpy as np\n",
        "import pandas as pd\n",
        "\n",
        "\n",
        "# Define the test harness\n",
        "def run_test_harness():\n",
        "    model = define_model()\n",
        "\n",
        "    # Data augmentation configuration\n",
        "    datagen = ImageDataGenerator(\n",
        "        rescale=1.0 / 255.0,\n",
        "        width_shift_range=0.1,\n",
        "        height_shift_range=0.1,\n",
        "        horizontal_flip=True\n",
        "    )\n",
        "\n",
        "    # Prepare iterators for training and testing datasets\n",
        "    train_it = datagen.flow_from_directory(\n",
        "        '/kaggle/input/catvsdog/train/',\n",
        "        batch_size=32,\n",
        "        target_size=(200, 200),\n",
        "        class_mode='binary'\n",
        "    )\n",
        "\n",
        "    # For testing, no augmentation is applied, only rescaling\n",
        "    test_datagen = ImageDataGenerator(rescale=1.0 / 255.0)\n",
        "    test_it = test_datagen.flow_from_directory(\n",
        "        '/kaggle/input/catvsdog/test/',\n",
        "        batch_size=32,\n",
        "        target_size=(200, 200),\n",
        "        class_mode='binary'\n",
        "    )\n",
        "\n",
        "    # Store accuracy and loss values\n",
        "    train_acc = []\n",
        "    val_acc = []\n",
        "    train_loss = []\n",
        "    val_loss = []\n",
        "\n",
        "    # Fit the model with correct steps_per_epoch and validation_steps\n",
        "    history = model.fit(\n",
        "        train_it,\n",
        "        validation_data=test_it,\n",
        "        epochs=50,\n",
        "    )\n",
        "\n",
        "    # Extract accuracy and loss values for each epoch\n",
        "    for epoch in range(50):  # Assuming 40 epochs\n",
        "        train_acc.append(history.history['accuracy'][epoch])\n",
        "        val_acc.append(history.history['val_accuracy'][epoch])\n",
        "        train_loss.append(history.history['loss'][epoch])\n",
        "        val_loss.append(history.history['val_loss'][epoch])\n",
        "\n",
        "    # Save the values in a DataFrame or CSV\n",
        "    data = {\n",
        "        'Epoch': np.arange(1, 51),\n",
        "        'Train Accuracy': train_acc,\n",
        "        'Val Accuracy': val_acc,\n",
        "        'Train Loss': train_loss,\n",
        "        'Val Loss': val_loss\n",
        "    }\n",
        "\n",
        "    df = pd.DataFrame(data)\n",
        "    df.to_csv('training_history.csv', index=False)  # Save to CSV in the Colab directory\n",
        "\n",
        "    print(df)\n"
      ]
    },
    {
      "cell_type": "code",
      "execution_count": null,
      "metadata": {
        "execution": {
          "iopub.execute_input": "2024-12-06T07:02:11.586883Z",
          "iopub.status.busy": "2024-12-06T07:02:11.586484Z",
          "iopub.status.idle": "2024-12-06T09:44:32.248483Z",
          "shell.execute_reply": "2024-12-06T09:44:32.247401Z",
          "shell.execute_reply.started": "2024-12-06T07:02:11.586848Z"
        },
        "id": "QJInThb5ZcuO",
        "outputId": "7fa48804-07ff-4a78-ce58-516040a1d354"
      },
      "outputs": [
        {
          "name": "stderr",
          "output_type": "stream",
          "text": [
            "/opt/conda/lib/python3.10/site-packages/keras/src/layers/convolutional/base_conv.py:107: UserWarning: Do not pass an `input_shape`/`input_dim` argument to a layer. When using Sequential models, prefer using an `Input(shape)` object as the first layer in the model instead.\n",
            "  super().__init__(activity_regularizer=activity_regularizer, **kwargs)\n"
          ]
        },
        {
          "name": "stdout",
          "output_type": "stream",
          "text": [
            "Found 20000 images belonging to 2 classes.\n",
            "Found 5000 images belonging to 2 classes.\n",
            "Epoch 1/50\n",
            "\u001b[1m625/625\u001b[0m \u001b[32m━━━━━━━━━━━━━━━━━━━━\u001b[0m\u001b[37m\u001b[0m \u001b[1m209s\u001b[0m 320ms/step - accuracy: 0.5370 - loss: 0.7780 - val_accuracy: 0.6182 - val_loss: 0.6663\n",
            "Epoch 2/50\n",
            "\u001b[1m625/625\u001b[0m \u001b[32m━━━━━━━━━━━━━━━━━━━━\u001b[0m\u001b[37m\u001b[0m \u001b[1m195s\u001b[0m 309ms/step - accuracy: 0.6099 - loss: 0.6530 - val_accuracy: 0.6848 - val_loss: 0.6045\n",
            "Epoch 3/50\n",
            "\u001b[1m625/625\u001b[0m \u001b[32m━━━━━━━━━━━━━━━━━━━━\u001b[0m\u001b[37m\u001b[0m \u001b[1m195s\u001b[0m 309ms/step - accuracy: 0.6611 - loss: 0.6071 - val_accuracy: 0.7108 - val_loss: 0.5631\n",
            "Epoch 4/50\n",
            "\u001b[1m625/625\u001b[0m \u001b[32m━━━━━━━━━━━━━━━━━━━━\u001b[0m\u001b[37m\u001b[0m \u001b[1m194s\u001b[0m 307ms/step - accuracy: 0.6974 - loss: 0.5763 - val_accuracy: 0.7354 - val_loss: 0.5218\n",
            "Epoch 5/50\n",
            "\u001b[1m625/625\u001b[0m \u001b[32m━━━━━━━━━━━━━━━━━━━━\u001b[0m\u001b[37m\u001b[0m \u001b[1m194s\u001b[0m 306ms/step - accuracy: 0.7148 - loss: 0.5486 - val_accuracy: 0.7540 - val_loss: 0.4997\n",
            "Epoch 6/50\n",
            "\u001b[1m625/625\u001b[0m \u001b[32m━━━━━━━━━━━━━━━━━━━━\u001b[0m\u001b[37m\u001b[0m \u001b[1m192s\u001b[0m 304ms/step - accuracy: 0.7408 - loss: 0.5206 - val_accuracy: 0.7560 - val_loss: 0.4935\n",
            "Epoch 7/50\n",
            "\u001b[1m625/625\u001b[0m \u001b[32m━━━━━━━━━━━━━━━━━━━━\u001b[0m\u001b[37m\u001b[0m \u001b[1m193s\u001b[0m 305ms/step - accuracy: 0.7506 - loss: 0.5035 - val_accuracy: 0.7770 - val_loss: 0.4655\n",
            "Epoch 8/50\n",
            "\u001b[1m625/625\u001b[0m \u001b[32m━━━━━━━━━━━━━━━━━━━━\u001b[0m\u001b[37m\u001b[0m \u001b[1m195s\u001b[0m 309ms/step - accuracy: 0.7618 - loss: 0.4926 - val_accuracy: 0.7774 - val_loss: 0.4683\n",
            "Epoch 9/50\n",
            "\u001b[1m625/625\u001b[0m \u001b[32m━━━━━━━━━━━━━━━━━━━━\u001b[0m\u001b[37m\u001b[0m \u001b[1m191s\u001b[0m 303ms/step - accuracy: 0.7809 - loss: 0.4695 - val_accuracy: 0.8042 - val_loss: 0.4256\n",
            "Epoch 10/50\n",
            "\u001b[1m625/625\u001b[0m \u001b[32m━━━━━━━━━━━━━━━━━━━━\u001b[0m\u001b[37m\u001b[0m \u001b[1m192s\u001b[0m 303ms/step - accuracy: 0.7835 - loss: 0.4604 - val_accuracy: 0.7970 - val_loss: 0.4339\n",
            "Epoch 11/50\n",
            "\u001b[1m625/625\u001b[0m \u001b[32m━━━━━━━━━━━━━━━━━━━━\u001b[0m\u001b[37m\u001b[0m \u001b[1m194s\u001b[0m 307ms/step - accuracy: 0.7923 - loss: 0.4496 - val_accuracy: 0.8016 - val_loss: 0.4221\n",
            "Epoch 12/50\n",
            "\u001b[1m625/625\u001b[0m \u001b[32m━━━━━━━━━━━━━━━━━━━━\u001b[0m\u001b[37m\u001b[0m \u001b[1m195s\u001b[0m 309ms/step - accuracy: 0.8102 - loss: 0.4330 - val_accuracy: 0.8000 - val_loss: 0.4273\n",
            "Epoch 13/50\n",
            "\u001b[1m625/625\u001b[0m \u001b[32m━━━━━━━━━━━━━━━━━━━━\u001b[0m\u001b[37m\u001b[0m \u001b[1m197s\u001b[0m 311ms/step - accuracy: 0.8050 - loss: 0.4284 - val_accuracy: 0.8104 - val_loss: 0.4094\n",
            "Epoch 14/50\n",
            "\u001b[1m625/625\u001b[0m \u001b[32m━━━━━━━━━━━━━━━━━━━━\u001b[0m\u001b[37m\u001b[0m \u001b[1m195s\u001b[0m 310ms/step - accuracy: 0.8023 - loss: 0.4299 - val_accuracy: 0.8260 - val_loss: 0.3865\n",
            "Epoch 15/50\n",
            "\u001b[1m625/625\u001b[0m \u001b[32m━━━━━━━━━━━━━━━━━━━━\u001b[0m\u001b[37m\u001b[0m \u001b[1m199s\u001b[0m 315ms/step - accuracy: 0.8141 - loss: 0.4177 - val_accuracy: 0.8092 - val_loss: 0.4074\n",
            "Epoch 16/50\n",
            "\u001b[1m625/625\u001b[0m \u001b[32m━━━━━━━━━━━━━━━━━━━━\u001b[0m\u001b[37m\u001b[0m \u001b[1m198s\u001b[0m 313ms/step - accuracy: 0.8200 - loss: 0.4050 - val_accuracy: 0.8238 - val_loss: 0.3868\n",
            "Epoch 17/50\n",
            "\u001b[1m625/625\u001b[0m \u001b[32m━━━━━━━━━━━━━━━━━━━━\u001b[0m\u001b[37m\u001b[0m \u001b[1m201s\u001b[0m 318ms/step - accuracy: 0.8206 - loss: 0.4067 - val_accuracy: 0.8242 - val_loss: 0.3895\n",
            "Epoch 18/50\n",
            "\u001b[1m625/625\u001b[0m \u001b[32m━━━━━━━━━━━━━━━━━━━━\u001b[0m\u001b[37m\u001b[0m \u001b[1m198s\u001b[0m 314ms/step - accuracy: 0.8285 - loss: 0.3934 - val_accuracy: 0.8386 - val_loss: 0.3630\n",
            "Epoch 19/50\n",
            "\u001b[1m625/625\u001b[0m \u001b[32m━━━━━━━━━━━━━━━━━━━━\u001b[0m\u001b[37m\u001b[0m \u001b[1m192s\u001b[0m 304ms/step - accuracy: 0.8260 - loss: 0.3933 - val_accuracy: 0.8398 - val_loss: 0.3608\n",
            "Epoch 20/50\n",
            "\u001b[1m625/625\u001b[0m \u001b[32m━━━━━━━━━━━━━━━━━━━━\u001b[0m\u001b[37m\u001b[0m \u001b[1m193s\u001b[0m 306ms/step - accuracy: 0.8319 - loss: 0.3864 - val_accuracy: 0.8442 - val_loss: 0.3527\n",
            "Epoch 21/50\n",
            "\u001b[1m625/625\u001b[0m \u001b[32m━━━━━━━━━━━━━━━━━━━━\u001b[0m\u001b[37m\u001b[0m \u001b[1m192s\u001b[0m 304ms/step - accuracy: 0.8302 - loss: 0.3849 - val_accuracy: 0.8404 - val_loss: 0.3563\n",
            "Epoch 22/50\n",
            "\u001b[1m625/625\u001b[0m \u001b[32m━━━━━━━━━━━━━━━━━━━━\u001b[0m\u001b[37m\u001b[0m \u001b[1m189s\u001b[0m 299ms/step - accuracy: 0.8328 - loss: 0.3837 - val_accuracy: 0.8344 - val_loss: 0.3812\n",
            "Epoch 23/50\n",
            "\u001b[1m625/625\u001b[0m \u001b[32m━━━━━━━━━━━━━━━━━━━━\u001b[0m\u001b[37m\u001b[0m \u001b[1m214s\u001b[0m 339ms/step - accuracy: 0.8430 - loss: 0.3699 - val_accuracy: 0.8446 - val_loss: 0.3513\n",
            "Epoch 24/50\n",
            "\u001b[1m625/625\u001b[0m \u001b[32m━━━━━━━━━━━━━━━━━━━━\u001b[0m\u001b[37m\u001b[0m \u001b[1m195s\u001b[0m 309ms/step - accuracy: 0.8451 - loss: 0.3598 - val_accuracy: 0.8572 - val_loss: 0.3320\n",
            "Epoch 25/50\n",
            "\u001b[1m625/625\u001b[0m \u001b[32m━━━━━━━━━━━━━━━━━━━━\u001b[0m\u001b[37m\u001b[0m \u001b[1m191s\u001b[0m 303ms/step - accuracy: 0.8442 - loss: 0.3646 - val_accuracy: 0.8478 - val_loss: 0.3447\n",
            "Epoch 26/50\n",
            "\u001b[1m625/625\u001b[0m \u001b[32m━━━━━━━━━━━━━━━━━━━━\u001b[0m\u001b[37m\u001b[0m \u001b[1m193s\u001b[0m 306ms/step - accuracy: 0.8494 - loss: 0.3543 - val_accuracy: 0.8538 - val_loss: 0.3347\n",
            "Epoch 27/50\n",
            "\u001b[1m625/625\u001b[0m \u001b[32m━━━━━━━━━━━━━━━━━━━━\u001b[0m\u001b[37m\u001b[0m \u001b[1m195s\u001b[0m 308ms/step - accuracy: 0.8466 - loss: 0.3547 - val_accuracy: 0.8612 - val_loss: 0.3241\n",
            "Epoch 28/50\n",
            "\u001b[1m625/625\u001b[0m \u001b[32m━━━━━━━━━━━━━━━━━━━━\u001b[0m\u001b[37m\u001b[0m \u001b[1m191s\u001b[0m 302ms/step - accuracy: 0.8460 - loss: 0.3500 - val_accuracy: 0.8418 - val_loss: 0.3493\n",
            "Epoch 29/50\n",
            "\u001b[1m625/625\u001b[0m \u001b[32m━━━━━━━━━━━━━━━━━━━━\u001b[0m\u001b[37m\u001b[0m \u001b[1m193s\u001b[0m 305ms/step - accuracy: 0.8523 - loss: 0.3399 - val_accuracy: 0.8508 - val_loss: 0.3480\n",
            "Epoch 30/50\n",
            "\u001b[1m625/625\u001b[0m \u001b[32m━━━━━━━━━━━━━━━━━━━━\u001b[0m\u001b[37m\u001b[0m \u001b[1m192s\u001b[0m 303ms/step - accuracy: 0.8537 - loss: 0.3335 - val_accuracy: 0.8560 - val_loss: 0.3285\n",
            "Epoch 31/50\n",
            "\u001b[1m625/625\u001b[0m \u001b[32m━━━━━━━━━━━━━━━━━━━━\u001b[0m\u001b[37m\u001b[0m \u001b[1m190s\u001b[0m 301ms/step - accuracy: 0.8555 - loss: 0.3323 - val_accuracy: 0.8572 - val_loss: 0.3251\n",
            "Epoch 32/50\n",
            "\u001b[1m625/625\u001b[0m \u001b[32m━━━━━━━━━━━━━━━━━━━━\u001b[0m\u001b[37m\u001b[0m \u001b[1m190s\u001b[0m 302ms/step - accuracy: 0.8578 - loss: 0.3295 - val_accuracy: 0.8598 - val_loss: 0.3236\n",
            "Epoch 33/50\n",
            "\u001b[1m625/625\u001b[0m \u001b[32m━━━━━━━━━━━━━━━━━━━━\u001b[0m\u001b[37m\u001b[0m \u001b[1m190s\u001b[0m 301ms/step - accuracy: 0.8597 - loss: 0.3306 - val_accuracy: 0.8654 - val_loss: 0.3143\n",
            "Epoch 34/50\n",
            "\u001b[1m625/625\u001b[0m \u001b[32m━━━━━━━━━━━━━━━━━━━━\u001b[0m\u001b[37m\u001b[0m \u001b[1m193s\u001b[0m 305ms/step - accuracy: 0.8632 - loss: 0.3196 - val_accuracy: 0.8586 - val_loss: 0.3291\n",
            "Epoch 35/50\n",
            "\u001b[1m625/625\u001b[0m \u001b[32m━━━━━━━━━━━━━━━━━━━━\u001b[0m\u001b[37m\u001b[0m \u001b[1m194s\u001b[0m 307ms/step - accuracy: 0.8647 - loss: 0.3200 - val_accuracy: 0.8676 - val_loss: 0.3087\n",
            "Epoch 36/50\n",
            "\u001b[1m625/625\u001b[0m \u001b[32m━━━━━━━━━━━━━━━━━━━━\u001b[0m\u001b[37m\u001b[0m \u001b[1m193s\u001b[0m 305ms/step - accuracy: 0.8646 - loss: 0.3212 - val_accuracy: 0.8638 - val_loss: 0.3135\n",
            "Epoch 37/50\n",
            "\u001b[1m625/625\u001b[0m \u001b[32m━━━━━━━━━━━━━━━━━━━━\u001b[0m\u001b[37m\u001b[0m \u001b[1m194s\u001b[0m 306ms/step - accuracy: 0.8639 - loss: 0.3195 - val_accuracy: 0.8690 - val_loss: 0.2971\n",
            "Epoch 38/50\n",
            "\u001b[1m625/625\u001b[0m \u001b[32m━━━━━━━━━━━━━━━━━━━━\u001b[0m\u001b[37m\u001b[0m \u001b[1m191s\u001b[0m 303ms/step - accuracy: 0.8741 - loss: 0.3086 - val_accuracy: 0.8716 - val_loss: 0.2977\n",
            "Epoch 39/50\n",
            "\u001b[1m625/625\u001b[0m \u001b[32m━━━━━━━━━━━━━━━━━━━━\u001b[0m\u001b[37m\u001b[0m \u001b[1m194s\u001b[0m 306ms/step - accuracy: 0.8704 - loss: 0.3068 - val_accuracy: 0.8682 - val_loss: 0.2981\n",
            "Epoch 40/50\n",
            "\u001b[1m625/625\u001b[0m \u001b[32m━━━━━━━━━━━━━━━━━━━━\u001b[0m\u001b[37m\u001b[0m \u001b[1m195s\u001b[0m 309ms/step - accuracy: 0.8696 - loss: 0.3073 - val_accuracy: 0.8714 - val_loss: 0.2937\n",
            "Epoch 41/50\n",
            "\u001b[1m625/625\u001b[0m \u001b[32m━━━━━━━━━━━━━━━━━━━━\u001b[0m\u001b[37m\u001b[0m \u001b[1m191s\u001b[0m 303ms/step - accuracy: 0.8713 - loss: 0.3040 - val_accuracy: 0.8628 - val_loss: 0.3230\n",
            "Epoch 42/50\n",
            "\u001b[1m625/625\u001b[0m \u001b[32m━━━━━━━━━━━━━━━━━━━━\u001b[0m\u001b[37m\u001b[0m \u001b[1m192s\u001b[0m 305ms/step - accuracy: 0.8749 - loss: 0.2996 - val_accuracy: 0.8774 - val_loss: 0.2844\n",
            "Epoch 43/50\n",
            "\u001b[1m625/625\u001b[0m \u001b[32m━━━━━━━━━━━━━━━━━━━━\u001b[0m\u001b[37m\u001b[0m \u001b[1m194s\u001b[0m 307ms/step - accuracy: 0.8772 - loss: 0.2956 - val_accuracy: 0.8728 - val_loss: 0.2972\n",
            "Epoch 44/50\n",
            "\u001b[1m625/625\u001b[0m \u001b[32m━━━━━━━━━━━━━━━━━━━━\u001b[0m\u001b[37m\u001b[0m \u001b[1m193s\u001b[0m 306ms/step - accuracy: 0.8774 - loss: 0.2925 - val_accuracy: 0.8730 - val_loss: 0.2898\n",
            "Epoch 45/50\n",
            "\u001b[1m625/625\u001b[0m \u001b[32m━━━━━━━━━━━━━━━━━━━━\u001b[0m\u001b[37m\u001b[0m \u001b[1m192s\u001b[0m 304ms/step - accuracy: 0.8780 - loss: 0.2900 - val_accuracy: 0.8762 - val_loss: 0.2911\n",
            "Epoch 46/50\n",
            "\u001b[1m625/625\u001b[0m \u001b[32m━━━━━━━━━━━━━━━━━━━━\u001b[0m\u001b[37m\u001b[0m \u001b[1m195s\u001b[0m 309ms/step - accuracy: 0.8809 - loss: 0.2857 - val_accuracy: 0.8784 - val_loss: 0.2809\n",
            "Epoch 47/50\n",
            "\u001b[1m625/625\u001b[0m \u001b[32m━━━━━━━━━━━━━━━━━━━━\u001b[0m\u001b[37m\u001b[0m \u001b[1m198s\u001b[0m 313ms/step - accuracy: 0.8829 - loss: 0.2858 - val_accuracy: 0.8776 - val_loss: 0.2857\n",
            "Epoch 48/50\n",
            "\u001b[1m625/625\u001b[0m \u001b[32m━━━━━━━━━━━━━━━━━━━━\u001b[0m\u001b[37m\u001b[0m \u001b[1m197s\u001b[0m 312ms/step - accuracy: 0.8796 - loss: 0.2862 - val_accuracy: 0.8722 - val_loss: 0.2908\n",
            "Epoch 49/50\n",
            "\u001b[1m625/625\u001b[0m \u001b[32m━━━━━━━━━━━━━━━━━━━━\u001b[0m\u001b[37m\u001b[0m \u001b[1m192s\u001b[0m 305ms/step - accuracy: 0.8821 - loss: 0.2781 - val_accuracy: 0.8836 - val_loss: 0.2819\n",
            "Epoch 50/50\n",
            "\u001b[1m625/625\u001b[0m \u001b[32m━━━━━━━━━━━━━━━━━━━━\u001b[0m\u001b[37m\u001b[0m \u001b[1m192s\u001b[0m 304ms/step - accuracy: 0.8899 - loss: 0.2704 - val_accuracy: 0.8840 - val_loss: 0.2799\n",
            "    Epoch  Train Accuracy  Val Accuracy  Train Loss  Val Loss\n",
            "0       1         0.54960        0.6182    0.702924  0.666318\n",
            "1       2         0.62155        0.6848    0.642108  0.604546\n",
            "2       3         0.66680        0.7108    0.601736  0.563089\n",
            "3       4         0.70250        0.7354    0.570021  0.521765\n",
            "4       5         0.71965        0.7540    0.543500  0.499675\n",
            "5       6         0.73880        0.7560    0.521930  0.493534\n",
            "6       7         0.75615        0.7770    0.499519  0.465538\n",
            "7       8         0.76555        0.7774    0.488696  0.468261\n",
            "8       9         0.78100        0.8042    0.470164  0.425593\n",
            "9      10         0.78620        0.7970    0.458149  0.433911\n",
            "10     11         0.79235        0.8016    0.447425  0.422121\n",
            "11     12         0.80300        0.8000    0.437655  0.427284\n",
            "12     13         0.80485        0.8104    0.429692  0.409412\n",
            "13     14         0.80745        0.8260    0.424491  0.386459\n",
            "14     15         0.81260        0.8092    0.417076  0.407393\n",
            "15     16         0.81770        0.8238    0.407888  0.386781\n",
            "16     17         0.82145        0.8242    0.404345  0.389455\n",
            "17     18         0.82775        0.8386    0.394834  0.363033\n",
            "18     19         0.82620        0.8398    0.392684  0.360791\n",
            "19     20         0.82930        0.8442    0.386851  0.352699\n",
            "20     21         0.83125        0.8404    0.382475  0.356257\n",
            "21     22         0.83615        0.8344    0.375607  0.381208\n",
            "22     23         0.84300        0.8446    0.368305  0.351262\n",
            "23     24         0.83970        0.8572    0.363918  0.332009\n",
            "24     25         0.84635        0.8478    0.359056  0.344692\n",
            "25     26         0.84840        0.8538    0.352877  0.334749\n",
            "26     27         0.84390        0.8612    0.357508  0.324101\n",
            "27     28         0.85020        0.8418    0.347777  0.349312\n",
            "28     29         0.85345        0.8508    0.340448  0.348020\n",
            "29     30         0.85165        0.8560    0.338368  0.328465\n",
            "30     31         0.85470        0.8572    0.337735  0.325094\n",
            "31     32         0.85730        0.8598    0.333031  0.323589\n",
            "32     33         0.86075        0.8654    0.326418  0.314334\n",
            "33     34         0.86145        0.8586    0.325413  0.329084\n",
            "34     35         0.86505        0.8676    0.321207  0.308744\n",
            "35     36         0.86575        0.8638    0.320690  0.313511\n",
            "36     37         0.86630        0.8690    0.316374  0.297126\n",
            "37     38         0.87105        0.8716    0.310321  0.297747\n",
            "38     39         0.86870        0.8682    0.308448  0.298053\n",
            "39     40         0.86785        0.8714    0.310332  0.293708\n",
            "40     41         0.86995        0.8628    0.305967  0.323020\n",
            "41     42         0.87600        0.8774    0.299470  0.284414\n",
            "42     43         0.87550        0.8728    0.297851  0.297157\n",
            "43     44         0.87835        0.8730    0.293872  0.289773\n",
            "44     45         0.87840        0.8762    0.291268  0.291121\n",
            "45     46         0.87815        0.8784    0.290567  0.280897\n",
            "46     47         0.88340        0.8776    0.283326  0.285651\n",
            "47     48         0.88040        0.8722    0.284774  0.290824\n",
            "48     49         0.88365        0.8836    0.277697  0.281853\n",
            "49     50         0.88460        0.8840    0.277708  0.279899\n"
          ]
        }
      ],
      "source": [
        "run_test_harness()"
      ]
    },
    {
      "cell_type": "code",
      "execution_count": null,
      "metadata": {
        "execution": {
          "iopub.execute_input": "2024-12-06T10:18:11.705523Z",
          "iopub.status.busy": "2024-12-06T10:18:11.705096Z",
          "iopub.status.idle": "2024-12-06T10:18:12.474263Z",
          "shell.execute_reply": "2024-12-06T10:18:12.473395Z",
          "shell.execute_reply.started": "2024-12-06T10:18:11.705487Z"
        },
        "id": "DFUKY60XZcuO",
        "outputId": "b4f40bb4-700f-418c-bd4b-d9b333b2a14e"
      },
      "outputs": [
        {
          "data": {
            "image/png": "[encoded data removed]",
            "text/plain": [
              "<Figure size 1200x600 with 2 Axes>"
            ]
          },
          "metadata": {},
          "output_type": "display_data"
        }
      ],
      "source": [
        "plot_from_csv('training_history.csv')"
      ]
    },
    {
      "cell_type": "code",
      "execution_count": null,
      "metadata": {
        "execution": {
          "iopub.execute_input": "2024-12-06T10:25:27.352990Z",
          "iopub.status.busy": "2024-12-06T10:25:27.352182Z",
          "iopub.status.idle": "2024-12-06T10:25:27.357981Z",
          "shell.execute_reply": "2024-12-06T10:25:27.357040Z",
          "shell.execute_reply.started": "2024-12-06T10:25:27.352952Z"
        },
        "id": "6_AZheasZcuP"
      },
      "outputs": [],
      "source": [
        "from keras.layers import BatchNormalization"
      ]
    },
    {
      "cell_type": "code",
      "execution_count": null,
      "metadata": {
        "execution": {
          "iopub.execute_input": "2024-12-06T10:25:29.659948Z",
          "iopub.status.busy": "2024-12-06T10:25:29.659571Z",
          "iopub.status.idle": "2024-12-06T10:25:29.667431Z",
          "shell.execute_reply": "2024-12-06T10:25:29.666491Z",
          "shell.execute_reply.started": "2024-12-06T10:25:29.659913Z"
        },
        "id": "fj-JXmBFZcuP"
      },
      "outputs": [],
      "source": [
        "def define_model():\n",
        "    model = Sequential()\n",
        "    model.add(Conv2D(32, (3, 3), activation='relu', kernel_initializer='he_uniform',\n",
        "                     padding='same', input_shape=(200, 200, 3)))\n",
        "    model.add(BatchNormalization())\n",
        "    model.add(MaxPooling2D((2, 2)))\n",
        "    model.add(Dropout(0.1))\n",
        "\n",
        "    model.add(Conv2D(64, (3, 3), activation='relu', kernel_initializer='he_uniform',\n",
        "                     padding='same'))\n",
        "    model.add(BatchNormalization())\n",
        "    model.add(MaxPooling2D((2, 2)))\n",
        "    model.add(Dropout(0.1))\n",
        "\n",
        "    model.add(Conv2D(128, (3, 3), activation='relu', kernel_initializer='he_uniform',\n",
        "                     padding='same'))\n",
        "    model.add(BatchNormalization())\n",
        "    model.add(MaxPooling2D((2, 2)))\n",
        "    model.add(Dropout(0.1))\n",
        "\n",
        "    model.add(Flatten())\n",
        "    model.add(Dense(128, activation='relu', kernel_initializer='he_uniform'))\n",
        "    model.add(Dropout(0.3))\n",
        "\n",
        "    model.add(Dense(1, activation='sigmoid'))\n",
        "\n",
        "    # Compile the model\n",
        "    opt = Adam(learning_rate=0.0001)\n",
        "    model.compile(optimizer=opt, loss='binary_crossentropy', metrics=['accuracy'])\n",
        "\n",
        "    return model"
      ]
    },
    {
      "cell_type": "code",
      "execution_count": null,
      "metadata": {
        "execution": {
          "iopub.execute_input": "2024-12-06T10:25:32.789611Z",
          "iopub.status.busy": "2024-12-06T10:25:32.789265Z",
          "iopub.status.idle": "2024-12-06T10:25:32.797515Z",
          "shell.execute_reply": "2024-12-06T10:25:32.796526Z",
          "shell.execute_reply.started": "2024-12-06T10:25:32.789579Z"
        },
        "id": "Xgi3hz-0ZcuQ"
      },
      "outputs": [],
      "source": [
        "import numpy as np\n",
        "import pandas as pd\n",
        "\n",
        "\n",
        "# Define the test harness\n",
        "def run_test_harness():\n",
        "    model = define_model()\n",
        "\n",
        "    # Data augmentation configuration\n",
        "    datagen = ImageDataGenerator(\n",
        "        rescale=1.0 / 255.0,\n",
        "        width_shift_range=0.1,\n",
        "        height_shift_range=0.1,\n",
        "        horizontal_flip=True\n",
        "    )\n",
        "\n",
        "    # Prepare iterators for training and testing datasets\n",
        "    train_it = datagen.flow_from_directory(\n",
        "        '/kaggle/input/catvsdog/train/',\n",
        "        batch_size=32,\n",
        "        target_size=(200, 200),\n",
        "        class_mode='binary'\n",
        "    )\n",
        "\n",
        "    # For testing, no augmentation is applied, only rescaling\n",
        "    test_datagen = ImageDataGenerator(rescale=1.0 / 255.0)\n",
        "    test_it = test_datagen.flow_from_directory(\n",
        "        '/kaggle/input/catvsdog/test/',\n",
        "        batch_size=32,\n",
        "        target_size=(200, 200),\n",
        "        class_mode='binary'\n",
        "    )\n",
        "\n",
        "    # Store accuracy and loss values\n",
        "    train_acc = []\n",
        "    val_acc = []\n",
        "    train_loss = []\n",
        "    val_loss = []\n",
        "\n",
        "    # Fit the model with correct steps_per_epoch and validation_steps\n",
        "    history = model.fit(\n",
        "        train_it,\n",
        "        validation_data=test_it,\n",
        "        epochs=80,\n",
        "    )\n",
        "\n",
        "    # Extract accuracy and loss values for each epoch\n",
        "    for epoch in range(80):  # Assuming 40 epochs\n",
        "        train_acc.append(history.history['accuracy'][epoch])\n",
        "        val_acc.append(history.history['val_accuracy'][epoch])\n",
        "        train_loss.append(history.history['loss'][epoch])\n",
        "        val_loss.append(history.history['val_loss'][epoch])\n",
        "\n",
        "    # Save the values in a DataFrame or CSV\n",
        "    data = {\n",
        "        'Epoch': np.arange(1, 81),\n",
        "        'Train Accuracy': train_acc,\n",
        "        'Val Accuracy': val_acc,\n",
        "        'Train Loss': train_loss,\n",
        "        'Val Loss': val_loss\n",
        "    }\n",
        "\n",
        "    df = pd.DataFrame(data)\n",
        "    df.to_csv('training_history.csv', index=False)  # Save to CSV in the Colab directory\n",
        "\n",
        "    print(df)"
      ]
    },
    {
      "cell_type": "code",
      "execution_count": null,
      "metadata": {
        "execution": {
          "iopub.execute_input": "2024-12-06T10:25:43.086970Z",
          "iopub.status.busy": "2024-12-06T10:25:43.086604Z"
        },
        "id": "3YVjGgkOZcuQ",
        "outputId": "739398e9-018c-4725-ac34-d7b03c557b8d"
      },
      "outputs": [
        {
          "name": "stdout",
          "output_type": "stream",
          "text": [
            "Found 20000 images belonging to 2 classes.\n",
            "Found 5000 images belonging to 2 classes.\n",
            "Epoch 1/80\n"
          ]
        },
        {
          "name": "stderr",
          "output_type": "stream",
          "text": [
            "/opt/conda/lib/python3.10/site-packages/keras/src/trainers/data_adapters/py_dataset_adapter.py:121: UserWarning: Your `PyDataset` class should call `super().__init__(**kwargs)` in its constructor. `**kwargs` can include `workers`, `use_multiprocessing`, `max_queue_size`. Do not pass these arguments to `fit()`, as they will be ignored.\n",
            "  self._warn_if_super_not_called()\n"
          ]
        },
        {
          "name": "stdout",
          "output_type": "stream",
          "text": [
            "\u001b[1m625/625\u001b[0m \u001b[32m━━━━━━━━━━━━━━━━━━━━\u001b[0m\u001b[37m\u001b[0m \u001b[1m206s\u001b[0m 312ms/step - accuracy: 0.6124 - loss: 0.7725 - val_accuracy: 0.7128 - val_loss: 0.5560\n",
            "Epoch 2/80\n",
            "\u001b[1m625/625\u001b[0m \u001b[32m━━━━━━━━━━━━━━━━━━━━\u001b[0m\u001b[37m\u001b[0m \u001b[1m193s\u001b[0m 305ms/step - accuracy: 0.6901 - loss: 0.5752 - val_accuracy: 0.7586 - val_loss: 0.5043\n",
            "Epoch 3/80\n",
            "\u001b[1m625/625\u001b[0m \u001b[32m━━━━━━━━━━━━━━━━━━━━\u001b[0m\u001b[37m\u001b[0m \u001b[1m193s\u001b[0m 305ms/step - accuracy: 0.7282 - loss: 0.5313 - val_accuracy: 0.7862 - val_loss: 0.4545\n",
            "Epoch 4/80\n",
            "\u001b[1m625/625\u001b[0m \u001b[32m━━━━━━━━━━━━━━━━━━━━\u001b[0m\u001b[37m\u001b[0m \u001b[1m193s\u001b[0m 305ms/step - accuracy: 0.7502 - loss: 0.5073 - val_accuracy: 0.7878 - val_loss: 0.4492\n",
            "Epoch 5/80\n",
            "\u001b[1m625/625\u001b[0m \u001b[32m━━━━━━━━━━━━━━━━━━━━\u001b[0m\u001b[37m\u001b[0m \u001b[1m194s\u001b[0m 307ms/step - accuracy: 0.7694 - loss: 0.4803 - val_accuracy: 0.7848 - val_loss: 0.4485\n",
            "Epoch 6/80\n",
            "\u001b[1m625/625\u001b[0m \u001b[32m━━━━━━━━━━━━━━━━━━━━\u001b[0m\u001b[37m\u001b[0m \u001b[1m193s\u001b[0m 305ms/step - accuracy: 0.7806 - loss: 0.4556 - val_accuracy: 0.8156 - val_loss: 0.4116\n",
            "Epoch 7/80\n",
            "\u001b[1m316/625\u001b[0m \u001b[32m━━━━━━━━━━\u001b[0m\u001b[37m━━━━━━━━━━\u001b[0m \u001b[1m1:29\u001b[0m 288ms/step - accuracy: 0.7827 - loss: 0.4635"
          ]
        }
      ],
      "source": [
        "run_test_harness()"
      ]
    }
  ],
  "metadata": {
    "kaggle": {
      "accelerator": "nvidiaTeslaT4",
      "dataSources": [
        {
          "datasetId": 6241698,
          "sourceId": 10116408,
          "sourceType": "datasetVersion"
        }
      ],
      "dockerImageVersionId": 30805,
      "isGpuEnabled": true,
      "isInternetEnabled": false,
      "language": "python",
      "sourceType": "notebook"
    },
    "kernelspec": {
      "display_name": "Python 3 (ipykernel)",
      "language": "python",
      "name": "python3"
    },
    "language_info": {
      "codemirror_mode": {
        "name": "ipython",
        "version": 3
      },
      "file_extension": ".py",
      "mimetype": "text/x-python",
      "name": "python",
      "nbconvert_exporter": "python",
      "pygments_lexer": "ipython3",
      "version": "3.11.5"
    },
    "colab": {
      "provenance": []
    }
  },
  "nbformat": 4,
  "nbformat_minor": 0
}